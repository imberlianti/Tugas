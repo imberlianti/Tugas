{
 "cells": [
  {
   "cell_type": "markdown",
   "id": "5432658f",
   "metadata": {},
   "source": [
    "# 5.1 Print"
   ]
  },
  {
   "cell_type": "code",
   "execution_count": null,
   "id": "66f304fe",
   "metadata": {},
   "outputs": [],
   "source": [
    "print(\"Hai nama saya Sabina\")"
   ]
  },
  {
   "cell_type": "code",
   "execution_count": 1,
   "id": "a6c596f7",
   "metadata": {},
   "outputs": [
    {
     "name": "stdout",
     "output_type": "stream",
     "text": [
      "Hai saya  Sabina  saya dari kelas A\n"
     ]
    }
   ],
   "source": [
    "Name = \"Sabina\"\n",
    "print(\"Hai saya \" , Name , \" saya dari kelas A\")"
   ]
  },
  {
   "cell_type": "code",
   "execution_count": 2,
   "id": "7930b66b",
   "metadata": {},
   "outputs": [
    {
     "name": "stdout",
     "output_type": "stream",
     "text": [
      "Masukkan Nama Anda: krisna astrawan\n",
      "Hallo  krisna astrawan  apa kabar? \n"
     ]
    }
   ],
   "source": [
    "Name = input(\"Masukkan Nama Anda: \")\n",
    "print(\"Hallo \" , Name , \" apa kabar? \")"
   ]
  },
  {
   "cell_type": "code",
   "execution_count": 4,
   "id": "205fcb6a",
   "metadata": {},
   "outputs": [
    {
     "name": "stdout",
     "output_type": "stream",
     "text": [
      "Sabina sangat 'PINTER' dia jenius\n"
     ]
    }
   ],
   "source": [
    "print(\"Sabina sangat 'PINTER' dia jenius\")"
   ]
  },
  {
   "cell_type": "code",
   "execution_count": 6,
   "id": "46fcd6ec",
   "metadata": {},
   "outputs": [
    {
     "name": "stdout",
     "output_type": "stream",
     "text": [
      "Hai Made Susanto Welcome\n"
     ]
    }
   ],
   "source": [
    "fName = \"Made\"\n",
    "lName = \"Susanto\"\n",
    "print(\"Hai \" + fName , lName + \" Welcome\")"
   ]
  },
  {
   "cell_type": "code",
   "execution_count": 9,
   "id": "cb1905a6",
   "metadata": {},
   "outputs": [
    {
     "name": "stdout",
     "output_type": "stream",
     "text": [
      "Total tabungan = Rp.120000\n"
     ]
    }
   ],
   "source": [
    "Month = 12\n",
    "Money = 10000\n",
    "print(\"Total tabungan = Rp.\" + str(Month * Money))"
   ]
  },
  {
   "cell_type": "markdown",
   "id": "d443b2a2",
   "metadata": {},
   "source": [
    "# 5.2 Input"
   ]
  },
  {
   "cell_type": "code",
   "execution_count": 11,
   "id": "1fcaf61d",
   "metadata": {},
   "outputs": [
    {
     "name": "stdout",
     "output_type": "stream",
     "text": [
      "Masukkan Nama : sabina bberlianti\n",
      "Masukkan pendapatan per bulan: Rp.100000\n",
      "Halo sabina bberlianti Pendapatan mu per tahun sekitar Rp.1200000\n"
     ]
    }
   ],
   "source": [
    "Nama = input(\"Masukkan Nama : \")\n",
    "Pendapatan = int(input(\"Masukkan pendapatan per bulan: Rp.\"))\n",
    "\n",
    "print(\"Halo \" + Nama , \"Pendapatan mu per tahun sekitar Rp.\" + str(Pendapatan * 12))"
   ]
  },
  {
   "cell_type": "code",
   "execution_count": 12,
   "id": "8af64431",
   "metadata": {},
   "outputs": [
    {
     "name": "stdout",
     "output_type": "stream",
     "text": [
      "Masukkan Nama kamu: sabina\n",
      "Hai sabina\n",
      "Hai sabina\n",
      "Hai sabina\n",
      "Hai sabina\n",
      "Hai sabina\n",
      "Hai sabina\n",
      "Hai sabina\n",
      "Hai sabina\n",
      "Hai sabina\n",
      "Hai sabina\n"
     ]
    }
   ],
   "source": [
    "Nama = str(input(\"Masukkan Nama kamu: \"))\n",
    "for i in range(10):\n",
    "    print(\"Hai\" , Nama)\n"
   ]
  },
  {
   "cell_type": "markdown",
   "id": "7d860e4c",
   "metadata": {},
   "source": [
    "# 5.3 Tipe Data Pada Python"
   ]
  },
  {
   "cell_type": "code",
   "execution_count": 21,
   "id": "edc9331d",
   "metadata": {},
   "outputs": [
    {
     "name": "stdout",
     "output_type": "stream",
     "text": [
      "Masukkan Panjang persegi: 10\n",
      "Masukkan Lebar Persegi: 5\n",
      "Luas Persegi Panjang = 50.0 cm2\n"
     ]
    },
    {
     "data": {
      "text/plain": [
       "float"
      ]
     },
     "execution_count": 21,
     "metadata": {},
     "output_type": "execute_result"
    }
   ],
   "source": [
    "Panjang = float(input(\"Masukkan Panjang persegi: \"))\n",
    "Lebar = float(input(\"Masukkan Lebar Persegi: \"))\n",
    "\n",
    "Luas = Panjang * Lebar\n",
    "print(\"Luas Persegi Panjang =\" , Luas , \"cm2\")\n",
    "\n",
    "type(Luas)\n",
    "type(Lebar)\n",
    "type(Panjang)"
   ]
  },
  {
   "cell_type": "code",
   "execution_count": 24,
   "id": "9f4a9bf4",
   "metadata": {},
   "outputs": [
    {
     "name": "stdout",
     "output_type": "stream",
     "text": [
      "Masukkan Bilangan 1 = 10\n",
      "Masukkan Bilangan 2 = 20\n",
      "Jumlah kedua bilangan adalah = 30.0\n"
     ]
    }
   ],
   "source": [
    "bil_one = float(input(\"Masukkan Bilangan 1 = \"))\n",
    "bil_two = float(input(\"Masukkan Bilangan 2 = \"))\n",
    "\n",
    "jum = bil_one + bil_two\n",
    "\n",
    "print(\"Jumlah kedua bilangan adalah =\" , str(jum))"
   ]
  },
  {
   "cell_type": "code",
   "execution_count": 29,
   "id": "67e9c2df",
   "metadata": {},
   "outputs": [
    {
     "name": "stdout",
     "output_type": "stream",
     "text": [
      "Masukkan Nama: Sabina\n",
      "Nama Sekolah SMA : sma berlin\n",
      "Masukkan Tahun Tamat: 2020\n",
      "Sabina Lulusan sma berlin pada Tahun 2020.\n"
     ]
    }
   ],
   "source": [
    "Nama = input(\"Masukkan Nama: \")\n",
    "NamaSekolah = input(\"Nama Sekolah SMA : \")\n",
    "Tahun = input(\"Masukkan Tahun Tamat: \")\n",
    "\n",
    "print(f\"{Nama} Lulusan {NamaSekolah} pada Tahun {Tahun}.\")"
   ]
  },
  {
   "cell_type": "markdown",
   "id": "8ec5892f",
   "metadata": {},
   "source": [
    "# 5.4 String Index"
   ]
  },
  {
   "cell_type": "code",
   "execution_count": 37,
   "id": "bc6f1700",
   "metadata": {},
   "outputs": [
    {
     "name": "stdout",
     "output_type": "stream",
     "text": [
      "sekolah bergengsi \n",
      "Ini adalah sekolah bergengsi yang ada di Bal\n",
      "Ini adalah\n"
     ]
    }
   ],
   "source": [
    "thisString = \"Ini adalah sekolah bergengsi yang ada di Bali\"\n",
    "\n",
    "print(thisString[11:29])\n",
    "print(thisString[0:-1])\n",
    "print(thisString[0:10])"
   ]
  },
  {
   "cell_type": "markdown",
   "id": "9d17c92a",
   "metadata": {},
   "source": [
    "# 5.6 String Methods"
   ]
  },
  {
   "cell_type": "code",
   "execution_count": 41,
   "id": "d9ea8ebe",
   "metadata": {},
   "outputs": [
    {
     "name": "stdout",
     "output_type": "stream",
     "text": [
      "Masukkan Nama Kamu = sabina\n",
      "Panjang Nama =  6\n",
      "SABINA\n",
      "sabina\n",
      "1\n",
      "True\n"
     ]
    }
   ],
   "source": [
    "Nama = input(\"Masukkan Nama Kamu = \")\n",
    "print(\"Panjang Nama = \" , len(Nama))\n",
    "\n",
    "print(Nama.upper())\n",
    "print(Nama.lower())\n",
    "print(Nama.find(\"a\"))\n",
    "Nama.replace(\"a\" , \"b\")\n",
    "\n",
    "print(\"s\" in Nama)"
   ]
  },
  {
   "cell_type": "markdown",
   "id": "758395b9",
   "metadata": {},
   "source": [
    "# 5.7 Operasi Matematika di Python"
   ]
  },
  {
   "cell_type": "code",
   "execution_count": 43,
   "id": "511d17fe",
   "metadata": {},
   "outputs": [
    {
     "name": "stdout",
     "output_type": "stream",
     "text": [
      "Masukkan Bilangan 1 : 10\n",
      "Masukkan Bilangan 2 : 5\n",
      "Hasil penjumlahan : 15.0\n",
      "Hasil Pengurangan : 5.0\n",
      "Hasil Bagi : 2.0\n",
      "Hasil Kali : 50.0\n",
      "Hasil Modulo : 0.0\n",
      "Hasil Sisa Bagi: 2.0\n"
     ]
    }
   ],
   "source": [
    "bil_one = float(input(\"Masukkan Bilangan 1 : \"))\n",
    "bil_two = float(input(\"Masukkan Bilangan 2 : \"))\n",
    "\n",
    "print(\"Hasil penjumlahan : \" + str(bil_one + bil_two))\n",
    "print(\"Hasil Pengurangan : \" + str(bil_one - bil_two))\n",
    "print(\"Hasil Bagi : \" + str(bil_one / bil_two))\n",
    "print(\"Hasil Kali : \" + str(bil_one * bil_two))\n",
    "print(\"Hasil Modulo : \" + str(bil_one % bil_two))\n",
    "print(\"Hasil Sisa Bagi: \" + str(bil_one // bil_two))"
   ]
  },
  {
   "cell_type": "markdown",
   "id": "06f9f66d",
   "metadata": {},
   "source": [
    "# 5.8 Operator Perbandingan di Python"
   ]
  },
  {
   "cell_type": "code",
   "execution_count": 46,
   "id": "41bc74d1",
   "metadata": {},
   "outputs": [
    {
     "name": "stdout",
     "output_type": "stream",
     "text": [
      "Masukkan bilangan 1 : 10\n",
      "Masukkan Bilangan 2 : 5\n",
      "10 > 5  =  False\n",
      "10 < 5  =  True\n",
      "10 == 5  =  False\n",
      "10 <= 5  =  False\n",
      "10 >= 5  =  True\n"
     ]
    }
   ],
   "source": [
    "bil_one = int(input(\"Masukkan bilangan 1 : \"))\n",
    "bil_two = int(input(\"Masukkan Bilangan 2 : \"))\n",
    "\n",
    "a = bil_one < bil_two\n",
    "b = bil_one > bil_two\n",
    "c = bil_one == bil_two\n",
    "d = bil_one <= bil_two\n",
    "e = bil_one >= bil_two\n",
    "\n",
    "print(bil_one , '>' , bil_two , ' = ' , a)\n",
    "print(bil_one , '<' , bil_two , ' = ' , b)\n",
    "print(bil_one , '==' , bil_two , ' = ' , c)\n",
    "print(bil_one , '<=' , bil_two , ' = ' , d)\n",
    "print(bil_one , '>=' , bil_two , ' = ' , e)"
   ]
  },
  {
   "cell_type": "markdown",
   "id": "955da278",
   "metadata": {},
   "source": [
    "# 5.9 Operator Logika di Python"
   ]
  },
  {
   "cell_type": "code",
   "execution_count": 47,
   "id": "19e0a71b",
   "metadata": {},
   "outputs": [
    {
     "name": "stdout",
     "output_type": "stream",
     "text": [
      "Masukkan Nilai Budi: 70\n",
      "Masukkan Nilai Wayan: 75\n",
      "True\n",
      "False\n",
      "True\n",
      "True\n"
     ]
    }
   ],
   "source": [
    "nilai_one = int(input(\"Masukkan Nilai Budi: \"))\n",
    "nilai_two = int(input(\"Masukkan Nilai Wayan: \"))\n",
    "\n",
    "print(nilai_one > 55 and nilai_two <= 90)\n",
    "\n",
    "print(nilai_one < 55 and nilai_two > 70)\n",
    "\n",
    "print(nilai_one > 55 or nilai_two > 60)\n",
    "\n",
    "print(nilai_one == 70 or nilai_two == 75)\n"
   ]
  },
  {
   "cell_type": "markdown",
   "id": "51ef8e16",
   "metadata": {},
   "source": [
    "# 5.10 Operasi if Python"
   ]
  },
  {
   "cell_type": "code",
   "execution_count": 49,
   "id": "79979a80",
   "metadata": {},
   "outputs": [
    {
     "name": "stdout",
     "output_type": "stream",
     "text": [
      "Masukkan Bilangan Bulat: 10\n",
      "10 Adalah Bilangan Genap\n"
     ]
    }
   ],
   "source": [
    "def CheckBil(Bil):\n",
    "    if Bil % 2 == 0:\n",
    "        return True\n",
    "    else:\n",
    "        return False\n",
    "\n",
    "Bilangan = int(input(\"Masukkan Bilangan Bulat: \"))\n",
    "if CheckBil(Bilangan):\n",
    "    print(Bilangan , 'Adalah Bilangan Genap')\n",
    "\n",
    "else:\n",
    "    print(Bilangan , 'Adalah Bilangan Ganjil')"
   ]
  },
  {
   "cell_type": "code",
   "execution_count": 58,
   "id": "ea37d878",
   "metadata": {},
   "outputs": [
    {
     "name": "stdout",
     "output_type": "stream",
     "text": [
      "Masukkan Tinggi Badan: 103\n",
      "Masukkan inisiasi cm atau inch? : cm\n",
      "Tinggi badan anda adalah 40.551203cm\n"
     ]
    }
   ],
   "source": [
    "def CheckTall(Tall , init):\n",
    "    if init.lower() == 'cm':\n",
    "        Tall = Tall * 0.393701\n",
    "        return str(Tall) + init;\n",
    "    \n",
    "    else:\n",
    "        Tall = Tall/0.393701\n",
    "        return str(Tall) + init\n",
    "\n",
    "Tall = float(input(\"Masukkan Tinggi Badan: \"))\n",
    "init = input(\"Masukkan inisiasi cm atau inch? : \")\n",
    "\n",
    "print(f\"Tinggi badan anda adalah {CheckTall(Tall , init)}\")\n",
    "    "
   ]
  },
  {
   "cell_type": "markdown",
   "id": "b1041b33",
   "metadata": {},
   "source": [
    "# 5.11 While Loop"
   ]
  },
  {
   "cell_type": "code",
   "execution_count": 59,
   "id": "0fb5a46e",
   "metadata": {},
   "outputs": [
    {
     "name": "stdout",
     "output_type": "stream",
     "text": [
      "Ini Angka 1\n",
      "Ini Angka 2\n",
      "Ini Angka 3\n",
      "Ini Angka 4\n",
      "Ini Angka 5\n"
     ]
    }
   ],
   "source": [
    "a = 0\n",
    "while(True):\n",
    "    a = a+1\n",
    "    print(\"Ini Angka \" + str(a))\n",
    "    \n",
    "    if a == 5: break"
   ]
  },
  {
   "cell_type": "code",
   "execution_count": 65,
   "id": "f67cbc82",
   "metadata": {},
   "outputs": [
    {
     "name": "stdout",
     "output_type": "stream",
     "text": [
      "*****\n",
      "****\n",
      "***\n",
      "**\n",
      "*\n"
     ]
    }
   ],
   "source": [
    "a = 5\n",
    "while True:\n",
    "    print(a * \"*\")\n",
    "    a = a - 1\n",
    "    \n",
    "    if a == 0: break\n",
    "    "
   ]
  },
  {
   "cell_type": "markdown",
   "id": "d88e5967",
   "metadata": {},
   "source": [
    "# Data Titanic filtering Wanita Yang Meninggal"
   ]
  },
  {
   "cell_type": "code",
   "execution_count": 66,
   "id": "ac9f1d21",
   "metadata": {},
   "outputs": [
    {
     "name": "stdout",
     "output_type": "stream",
     "text": [
      "     PassengerId Survived                                               Name  \\\n",
      "14            15     Died               Vestrom, Miss. Hulda Amanda Adolfina   \n",
      "18            19     Died  Vander Planke, Mrs. Julius (Emelia Maria Vande...   \n",
      "24            25     Died                      Palsson, Miss. Torborg Danira   \n",
      "38            39     Died                 Vander Planke, Miss. Augusta Maria   \n",
      "40            41     Died     Ahlin, Mrs. Johan (Johanna Persdotter Larsson)   \n",
      "..           ...      ...                                                ...   \n",
      "854          855     Died      Carter, Mrs. Ernest Courtenay (Lilian Hughes)   \n",
      "863          864     Died                  Sage, Miss. Dorothy Edith \"Dolly\"   \n",
      "882          883     Died                       Dahlberg, Miss. Gerda Ulrika   \n",
      "885          886     Died               Rice, Mrs. William (Margaret Norton)   \n",
      "888          889     Died           Johnston, Miss. Catherine Helen \"Carrie\"   \n",
      "\n",
      "        Sex   Age  \n",
      "14   female  14.0  \n",
      "18   female  31.0  \n",
      "24   female   8.0  \n",
      "38   female  18.0  \n",
      "40   female  40.0  \n",
      "..      ...   ...  \n",
      "854  female  44.0  \n",
      "863  female   NaN  \n",
      "882  female  22.0  \n",
      "885  female  39.0  \n",
      "888  female   NaN  \n",
      "\n",
      "[81 rows x 5 columns]\n",
      "Banyak Penumpang Perempuan yang Meninggal =  81  orang penumpang\n"
     ]
    }
   ],
   "source": [
    "import pandas as pd\n",
    "\n",
    "url = \"https://raw.githubusercontent.com/imberlianti/Tugas/main/Data%20Scientist/train.csv\"\n",
    "\n",
    "data = pd.read_csv(url)\n",
    "df = pd.DataFrame(data)\n",
    "\n",
    "res = data[(data[\"Survived\"] == 0)]\n",
    "female = res[(res[\"Sex\"] == \"female\")]\n",
    "\n",
    "died = len(female)\n",
    "\n",
    "listCol = female.columns.values.tolist()\n",
    "listCol.remove(\"Survived\")\n",
    "listCol.remove(\"PassengerId\")\n",
    "listCol.remove(\"Name\")\n",
    "listCol.remove(\"Sex\")\n",
    "listCol.remove(\"Age\")\n",
    "\n",
    "female = female.drop(listCol, axis = 1)\n",
    "female['Survived'] = female['Survived'].replace([0] , 'Died')\n",
    "\n",
    "print(female.head(died))\n",
    "print(\"Banyak Penumpang Perempuan yang Meninggal = \" , str(died) , \" orang penumpang\")"
   ]
  },
  {
   "cell_type": "code",
   "execution_count": null,
   "id": "b9978193",
   "metadata": {},
   "outputs": [],
   "source": []
  }
 ],
 "metadata": {
  "kernelspec": {
   "display_name": "Python 3 (ipykernel)",
   "language": "python",
   "name": "python3"
  },
  "language_info": {
   "codemirror_mode": {
    "name": "ipython",
    "version": 3
   },
   "file_extension": ".py",
   "mimetype": "text/x-python",
   "name": "python",
   "nbconvert_exporter": "python",
   "pygments_lexer": "ipython3",
   "version": "3.9.7"
  }
 },
 "nbformat": 4,
 "nbformat_minor": 5
}
