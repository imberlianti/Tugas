{
 "cells": [
  {
   "cell_type": "markdown",
   "id": "45b1c84f",
   "metadata": {},
   "source": [
    "# 5.12 List di Python"
   ]
  },
  {
   "cell_type": "code",
   "execution_count": null,
   "id": "84ff2802",
   "metadata": {},
   "outputs": [],
   "source": [
    "barang = ['topi' , 'kaos' , 'baju' , 'celana']\n",
    "\n",
    "print(\"Isi Barang = \" , barang)\n",
    "print(\"Isi Barang Pertama = \" , barang[0])\n",
    "print(\"Isi Barang terakhir = \" , barang[-1])"
   ]
  },
  {
   "cell_type": "markdown",
   "id": "9f95b562",
   "metadata": {},
   "source": [
    "# 5.13 Metoda List"
   ]
  },
  {
   "cell_type": "code",
   "execution_count": null,
   "id": "113b1ebd",
   "metadata": {},
   "outputs": [],
   "source": [
    "Makanan = ['ayam' , 'bakso' , 'mie' , 'nasi goreng']\n",
    "print(f\"Isi List Makanan = {Makanan}\")\n",
    "\n",
    "inMakan = input(\"Masukkan Nama Makanan : \")\n",
    "Makanan.append(inMakan)\n",
    "print(f\"Isi List Makanan saat ini = {Makanan}\")\n",
    "\n",
    "Makanan.insert(1 , 'pizza')\n",
    "print(f\"Isi list Makanan sekarang = {Makanan}\")\n",
    "\n",
    "Makanan.remove('bakso')\n",
    "print(f\"Isi list setelah di remove = {Makanan}\")"
   ]
  },
  {
   "cell_type": "code",
   "execution_count": null,
   "id": "10f77ad4",
   "metadata": {},
   "outputs": [],
   "source": [
    "Name = []\n",
    "index = 5\n",
    "\n",
    "print(\"Masukkan 5 Nama Teman : \\n\")\n",
    "for name in range(index):\n",
    "    NamaTeman = input(f\"Masukkan Nama Teman ke-{name + 1} : \")\n",
    "    Name.append(NamaTeman)\n",
    "\n",
    "print(Name)\n",
    "\n",
    "print('Budi' in Name)\n",
    "print(f\"Panjang List = {len(Name)}\")"
   ]
  },
  {
   "cell_type": "markdown",
   "id": "04e8565a",
   "metadata": {},
   "source": [
    "# 5.14 For Loop"
   ]
  },
  {
   "cell_type": "code",
   "execution_count": null,
   "id": "03238aa6",
   "metadata": {},
   "outputs": [],
   "source": [
    "Fruit = []\n",
    "Index = 5\n",
    "\n",
    "print(\"Masukkan 5 Nama Buah: \\n\")\n",
    "for buah in range(Index):\n",
    "    temp = input(f\"Masukkan Nama buah ke-{buah + 1} = \")\n",
    "    Fruit.append(temp)\n",
    "\n",
    "print(\"Isi List Buah : \")\n",
    "id = 1\n",
    "\n",
    "for fruit in Fruit:\n",
    "    print(f\"Buah ke-{id} = {fruit}\")\n",
    "    id += 1 "
   ]
  },
  {
   "cell_type": "code",
   "execution_count": null,
   "id": "d1aacb93",
   "metadata": {},
   "outputs": [],
   "source": [
    "Nama = ['wayan' , 'made' , 'komang' , 'ketut']\n",
    "indx = 0\n",
    "\n",
    "print(\"Isi List Nama: \")\n",
    "while indx < len(Nama):\n",
    "    print(f\"Nama ke-{indx + 1} = {Nama[indx]}\")\n",
    "    indx += 1"
   ]
  },
  {
   "cell_type": "markdown",
   "id": "0dbe7416",
   "metadata": {},
   "source": [
    "# 5.15 Fungsi Range"
   ]
  },
  {
   "cell_type": "code",
   "execution_count": null,
   "id": "d346dc29",
   "metadata": {},
   "outputs": [],
   "source": [
    "thisAngka = range(8)\n",
    "print(f\"Banyak Angka = {thisAngka}\")\n",
    "\n",
    "for Exist in thisAngka:\n",
    "    print(Exist)"
   ]
  },
  {
   "cell_type": "code",
   "execution_count": null,
   "id": "1431841b",
   "metadata": {},
   "outputs": [],
   "source": [
    "print(\"Cetak Bilangan Genap Sampe 20: \")\n",
    "for Genap in range(2 , 22 , 2):\n",
    "    print(Genap)"
   ]
  },
  {
   "cell_type": "code",
   "execution_count": null,
   "id": "a2a7919a",
   "metadata": {},
   "outputs": [],
   "source": [
    "print(\"Cetak Bilangan Genap dari 3 Sampe 20: \")\n",
    "for Ganjil in range(3 , 20 , 2):\n",
    "    print(Ganjil)"
   ]
  },
  {
   "cell_type": "markdown",
   "id": "c821a760",
   "metadata": {},
   "source": [
    "# Latihan 1\n",
    "Buatlah program untuk mencari nilai terbesar di dalam suatu list."
   ]
  },
  {
   "cell_type": "code",
   "execution_count": null,
   "id": "3e987f8c",
   "metadata": {},
   "outputs": [],
   "source": [
    "import random as rd\n",
    "\n",
    "Data = []\n",
    "for temp in range(10):\n",
    "    Data.append(rd.randint(1 , 50))\n",
    "\n",
    "print(f\"Isi List = {Data}\")\n",
    "\n",
    "for i in range(len(Data)):\n",
    "    for sort in range(len(Data) - 1):\n",
    "        if Data[sort + 1] < Data[sort]:\n",
    "            temp = Data[sort]\n",
    "            Data[sort] = Data[sort + 1]\n",
    "            Data[sort + 1] = temp\n",
    "\n",
    "print(f\"List setelah di Sortir: {Data}\")\n",
    "\n",
    "MAX = Data[0]\n",
    "MIN = Data[0]\n",
    "SUM = 0\n",
    "\n",
    "for data in Data:\n",
    "    if data > MAX : \n",
    "        MAX = data\n",
    "    \n",
    "    if data < MIN : \n",
    "        MIN = data\n",
    "\n",
    "print(f\"Data Terbesar adalah = {MAX}\")\n",
    "print(f\"Data Terkecil adalah = {MIN}\")"
   ]
  },
  {
   "cell_type": "markdown",
   "id": "0c1d7586",
   "metadata": {},
   "source": [
    "# 5.16 List 2 Dimensi"
   ]
  },
  {
   "cell_type": "markdown",
   "id": "eb97d5c5",
   "metadata": {},
   "source": [
    "# 5.17 Tuples"
   ]
  },
  {
   "cell_type": "code",
   "execution_count": null,
   "id": "c01bf4a6",
   "metadata": {},
   "outputs": [],
   "source": [
    "Matriks = [ [0 ,1, 2, 3]  , [5 , 4 , 7, 6] , \n",
    "            [9 , 8 , 11 , 10] , [12 , 13 , 16, 14]]\n",
    "\n",
    "print(f\"Isi Matriks = {Matriks}\")\n",
    "print(f\"Isi Matriks baris pertama = {Matriks[0]}\")\n",
    "\n",
    "print(f\"ISi matriks [2][1] = {Matriks[2][1]}\")\n",
    "\n",
    "Matriks[2][1] = 30\n",
    "print(f\"Isi Matriks [2][1] = {Matriks[2][1]}\")\n",
    "\n",
    "print(f\"Isi Matriks saat ini = {Matriks}\")\n",
    "\n",
    "for Baris in Matriks:\n",
    "    print(Baris)\n",
    "    for Kolom in Baris:\n",
    "        print(Kolom)"
   ]
  },
  {
   "cell_type": "code",
   "execution_count": null,
   "id": "670c8bc2",
   "metadata": {},
   "outputs": [],
   "source": [
    "import random as rd\n",
    "\n",
    "ConstNama = ('Made' , 'Ketut' , 'Nyoman' , 'Wayan' , 'Putu')\n",
    "selected = rd.randint(0 , 4)\n",
    "\n",
    "print(f\"Nama di urutan ke-{selected + 1} = {ConstNama[selected]}\")\n",
    "\n",
    "print(f\"Nama yang ada di urutan 1 - 3 = {ConstNama[0 : 3]}\")\n",
    "\n",
    "print(\"Isi Tuples Nama: \")\n",
    "id = 1\n",
    "\n",
    "for nama in ConstNama:\n",
    "    print(f\"Nama ke-{id}: {nama}\")\n",
    "    id += 1"
   ]
  },
  {
   "cell_type": "markdown",
   "id": "36d02e49",
   "metadata": {},
   "source": [
    "# 5.18 Dictionaries"
   ]
  },
  {
   "cell_type": "code",
   "execution_count": null,
   "id": "4ccaf477",
   "metadata": {},
   "outputs": [],
   "source": [
    "MahasiswaDB =   {   \"Name\" : {1:\"Wayan\", 2:\"Made\", 3:\"Ketut\", 4:\"Ngurah\"} , \n",
    "                    \"Old\" : {1: 18,  2: 19, 3: 21, 4: 18},\n",
    "                    \"Lived\" : {1: \"Denpasar\" , 2: \"Badung\" , 3: \"Tabanan\", 4: \"Karangasem\"} \n",
    "                }\n",
    "\n",
    "for i in range(4):\n",
    "    print(f\"Mahasiswa Atas Nama: {MahasiswaDB['Name'][i+1]}, Dengan Umur: {MahasiswaDB['Old'][i+1]} tahun, tinggal di {MahasiswaDB['Lived'][i+1]}\")"
   ]
  },
  {
   "cell_type": "markdown",
   "id": "422c25d0",
   "metadata": {},
   "source": [
    "# Latihan 2\n",
    "Buatlah program untuk merubah nomor HP yang tadinya berupa angka menjadi sebutan bilangan tersebut."
   ]
  },
  {
   "cell_type": "code",
   "execution_count": null,
   "id": "368f728b",
   "metadata": {},
   "outputs": [],
   "source": [
    "ConstNomor = {  0 : \"NOL\" , 1: \"SATU\" , 2: \"DUA\" , 3: \"TIGA\" , 4: \"EMPAT\", \n",
    "                5: \"LIMA\" , 6: \"ENAM\" , 7: \"TUJUH\" , 8: \"DELAPAN\" , 9: \"SEMBILAN\"}\n",
    "\n",
    "TempNomor = input(\"Masukkan Nomor Hp: \")\n",
    "thisNomor = \"\"\n",
    "\n",
    "for exist in TempNomor:\n",
    "    thisNomor = thisNomor + ConstNomor.get(int(exist)) + \" \"\n",
    "\n",
    "print(f\"Nomor Hp dalam Huruf: {thisNomor}\")"
   ]
  },
  {
   "cell_type": "markdown",
   "id": "cb020fce",
   "metadata": {},
   "source": [
    "# 5.19 Fungsi Dalam Python"
   ]
  },
  {
   "cell_type": "code",
   "execution_count": null,
   "id": "76e820ba",
   "metadata": {},
   "outputs": [],
   "source": [
    "def Fibonaci(Batas):\n",
    "    a , b = 0 , 1\n",
    "    tempFib = \"\"\n",
    "    for i in range(Batas):\n",
    "        c = a + b\n",
    "        a , b = b , c\n",
    "        tempFib += str(a)\n",
    "        if i != Batas - 1: tempFib += \", \"\n",
    "\n",
    "    return tempFib\n",
    "\n",
    "Batas = int(input(\"Masukkan Batas Fibonaci: \"))\n",
    "print(\"Bilangan Fibonaci adalah =\" , Fibonaci(Batas))"
   ]
  },
  {
   "cell_type": "markdown",
   "id": "166f1e55",
   "metadata": {},
   "source": [
    "# 5.19.1 Tugas Fungsi pada Python"
   ]
  },
  {
   "cell_type": "code",
   "execution_count": null,
   "id": "908c8730",
   "metadata": {},
   "outputs": [],
   "source": [
    "def Pertambahan(A , B):\n",
    "    return A + B\n",
    "\n",
    "def Perkalian(A , B):\n",
    "    return A * B\n",
    "\n",
    "A = float(input(\"Masukkan Angka 1 : \"))\n",
    "B = float(input(\"Masukkan Angka 2 : \"))\n",
    "\n",
    "print(\"Hasil Penjumlahan A + B =\" , Pertambahan(A , B))\n",
    "print(\"Hasil Perkalian A x B =\" , Perkalian(A , B))"
   ]
  },
  {
   "cell_type": "markdown",
   "id": "3a9a78bf",
   "metadata": {},
   "source": [
    "# Latihan 3\n",
    "Buatlah program yang menggunakan fungsi Python untuk menghitung luas segitiga, lingkaran, persegi dan persegi panjang.Selain itu berikan peringatan bagi bidang lain yang tidak termasuk perhitungan."
   ]
  },
  {
   "cell_type": "code",
   "execution_count": null,
   "id": "64b5cea4",
   "metadata": {},
   "outputs": [],
   "source": [
    "class Perhitungan:\n",
    "    def LuasSegitiga(a , t):\n",
    "        return 0.5 * a * t\n",
    "    \n",
    "    def LuasLingkaran(r):\n",
    "        return 3.14 * (r ** 2)\n",
    "    \n",
    "    def LuasPersegi(s):\n",
    "        return s * 2\n",
    "    \n",
    "    def LuasPersegiPanjang(p , l):\n",
    "        return p * l\n",
    "\n",
    "Bidang = input(\"Input jenis Bidang: \")\n",
    "\n",
    "if Bidang.lower() == \"segitiga\":\n",
    "    a = float(input(\"Berapa Panjang Alas = \"))\n",
    "    t = float(input(\"Berapa tingginya = \"))\n",
    "    \n",
    "    print(f\"Luas {Bidang} = {Perhitungan.LuasSegitiga(a , t)}\")\n",
    "\n",
    "elif Bidang.lower() == \"lingkaran\":\n",
    "    r = float(input(\"Masukkan panjang jari - jari = \"))\n",
    "    print(f\"Luas Lingkaran = {Perhitungan.LuasLingkaran(r)}\")\n",
    "\n",
    "elif Bidang.lower() == \"persegi\":\n",
    "    s = float(input(\"Masukkan Panjang Sisinya = \"))\n",
    "    print(f\"Luas Persegi = {Perhitungan.LuasPersegi(s)}\")\n",
    "\n",
    "elif Bidang.lower() == \"persegi panjang\":\n",
    "    p = float(input(\"Masukkan Panjangnya = \"))\n",
    "    l = float(input(\"Masukkan Lebarnya = \"))\n",
    "\n",
    "    print(f\"Luas Persegi Panjang = {Perhitungan.LuasPersegiPanjang(p , l)}\")\n",
    "\n",
    "else:\n",
    "    print(f\"Bidang {Bidang} yang dimasukkan tidak ada.....\")\n",
    "    print(\"Hanya ada segitiga , persegi , lingkaran dan persegi panjang saja.\")"
   ]
  },
  {
   "cell_type": "markdown",
   "id": "c42a0e6f",
   "metadata": {},
   "source": [
    "# 5.20 Numpy"
   ]
  },
  {
   "cell_type": "markdown",
   "id": "83602dc9",
   "metadata": {},
   "source": [
    "# 5.20.1 Perintah Dasar Pada Nunpy"
   ]
  },
  {
   "cell_type": "code",
   "execution_count": null,
   "id": "4cb7bae2",
   "metadata": {},
   "outputs": [],
   "source": [
    "import numpy as np\n",
    "\n",
    "arr = np.array([[10 , 15 , 12 , 13 , 9] , [30 , 12 , 16 , 17 , 21] ,\n",
    "                [15 , 23 , 13 , 14 ,22] , [1 , 4 , 5 , 8 , 10]])\n",
    "\n",
    "print(arr)\n",
    "\n",
    "print(f\"Dimensi array tersebut adalah = {arr.ndim}\")\n",
    "print(f\"Shape array tersebut adalah = {arr.shape}\")"
   ]
  },
  {
   "cell_type": "markdown",
   "id": "137acb32",
   "metadata": {},
   "source": [
    "# 5.20.2 Memanggil Anggota, Kolom dan Baris dengan Numpy"
   ]
  },
  {
   "cell_type": "code",
   "execution_count": null,
   "id": "ddefac6c",
   "metadata": {},
   "outputs": [],
   "source": [
    "import numpy as np\n",
    "\n",
    "arr = np.array([[10 , 12 , 13 , 14] , [30 , 23 , 12 , 14] , [23 , 14 , 25 ,22]])\n",
    "\n",
    "print(\"Isi Array adalah : \\n\" , arr)\n",
    "print(f\"Isi Array baris ke [1] kolom [4] =  {arr[0 , 3]} \")\n",
    "\n",
    "print(f\"Isi Array baris ke 2 = {arr[1,:]}\")\n",
    "print(\"\\nMengubah isi array baris ke 2 kolom ke 1` menjadi 50\")\n",
    "\n",
    "arr[1 , 0] = 50\n",
    "print(arr)\n",
    "print(f\"Isi array array baris ke-2 setelah dirubah isinya = {arr[1 , :]}\")"
   ]
  },
  {
   "cell_type": "markdown",
   "id": "2dc34e46",
   "metadata": {},
   "source": [
    "# 5.20.3 Matriks pada Numpy"
   ]
  },
  {
   "cell_type": "code",
   "execution_count": null,
   "id": "022d90a5",
   "metadata": {},
   "outputs": [],
   "source": [
    "import numpy as np\n",
    "import random as rd\n",
    "\n",
    "print(f\"Matriks 2 dimensi yang isinya semua 1 : \\n {np.ones((2 , 3))}\")\n",
    "print(f\"\\nMatriks 3 dimensi yang isinya 0: \\n {np.zeros((3 , 2))}\")\n",
    "\n",
    "print(f\"\\nMatriks identitas 4 dimensi : \\n {np.identity(4)}\")\n",
    "print(f\"\\nMatriks Full 3 Dimensi : \\n {np.full((3 , 2) , 9)}\")\n",
    "\n",
    "print(f\"\\nMatriks random 3 dimensi : \\n {np.random  .randint(1 , 10 , size=(3 , 4))}\")"
   ]
  },
  {
   "cell_type": "markdown",
   "id": "2b74de34",
   "metadata": {},
   "source": [
    "# Latihan 4\n",
    "Buatlah matrik ukuran 10 x 10 berikut dengan menggunakan Numpy"
   ]
  },
  {
   "cell_type": "code",
   "execution_count": null,
   "id": "d45e3f76",
   "metadata": {},
   "outputs": [],
   "source": [
    "import numpy as np\n",
    "\n",
    "mat_idnt= np.identity(10)\n",
    "idnt_with_nine = 9 * mat_idnt\n",
    "\n",
    "out_idnt_one = np.ones((8 , 8))\n",
    "idnt_with_one = np.identity(8) * 8\n",
    "\n",
    "is_equal_to = out_idnt_one + idnt_with_one\n",
    "idnt_with_nine[1:-1 , 1:-1] = is_equal_to\n",
    "\n",
    "is_now_out = np.identity(6) * 9\n",
    "idnt_with_nine[2 : -2 , 2: -2] = is_now_out\n",
    "\n",
    "this_one = np.ones((4 , 4)) * 2\n",
    "this_idnt = np.identity(4) * 7\n",
    "equal = this_one + this_idnt\n",
    "\n",
    "idnt_with_nine[3: -3 , 3: -3] = equal\n",
    "\n",
    "end_of_idnt = np.identity(2) * 9\n",
    "idnt_with_nine[4:-4 , 4:-4] = end_of_idnt\n",
    "\n",
    "print(idnt_with_nine)"
   ]
  },
  {
   "cell_type": "markdown",
   "id": "94d40013",
   "metadata": {},
   "source": [
    "# 5.20.4 Copy pada Numpy"
   ]
  },
  {
   "cell_type": "code",
   "execution_count": null,
   "id": "6c56efe7",
   "metadata": {},
   "outputs": [],
   "source": [
    "import numpy as np\n",
    "\n",
    "arr = np.array([[10, 23, 15, 44] , [33 , 14 ,15 , 20]])\n",
    "print(f\"Isi array 1 adalah = \\n {arr}\")\n",
    "\n",
    "arr_cp = arr.copy()\n",
    "print(f\"\\nIsi array 2 merupakan copy array 1: \\n {arr_cp}\")"
   ]
  },
  {
   "cell_type": "markdown",
   "id": "be3c6b2e",
   "metadata": {},
   "source": [
    "# 5.20.5 Operasi Matematika pada Numpy"
   ]
  },
  {
   "cell_type": "code",
   "execution_count": null,
   "id": "8387362f",
   "metadata": {},
   "outputs": [],
   "source": [
    "import numpy as np\n",
    "\n",
    "mat_a = np.array([10 , 23 , 14 , 20])\n",
    "mat_b = np.array([15 , 21 , 22 , 30])\n",
    "\n",
    "print(f\"Isi matriks A = {mat_a}\")\n",
    "print(f\"Isi matriks B = {mat_b} \\n\")\n",
    "\n",
    "print(f\"Hasil Penjumlahan matrika A + B = {mat_a + mat_b} \")\n",
    "print(f\"Hasil Pengurangan matrika A - B = {mat_a - mat_b} \")\n",
    "print(f\"Hasil Perkalian matrika A x B = {mat_a * mat_b} \")\n",
    "\n",
    "print(f\"Hasil Pengakaran matrika A = {np.sqrt(mat_a)}\")"
   ]
  },
  {
   "cell_type": "markdown",
   "id": "32b76f9d",
   "metadata": {},
   "source": [
    "# 5.20.6 Perkalian Matriks pada Numpy"
   ]
  },
  {
   "cell_type": "code",
   "execution_count": null,
   "id": "86a7dc4d",
   "metadata": {},
   "outputs": [],
   "source": [
    "import numpy as np\n",
    "\n",
    "mat_a = np.array([[10 , 20 , 33 , 14] , [33 , 23 , 24 , 14]])\n",
    "mat_b = np.array([[13 , 14 , 20 , 22] , [30 , 12 , 13 , 44]])\n",
    "\n",
    "print(f\"Isi Matriks A : \\n {mat_a} \\n\")\n",
    "print(f\"Isi Matriks B : \\n {mat_b} \\n\")\n",
    "\n",
    "print(f\"Hasil Perkalian matrika A x B = \\n {mat_a * mat_b} \")"
   ]
  },
  {
   "cell_type": "markdown",
   "id": "40fe4f43",
   "metadata": {},
   "source": [
    "# 5.20.7 Min , Max dan Sum pada Numpy"
   ]
  },
  {
   "cell_type": "code",
   "execution_count": null,
   "id": "b364a15f",
   "metadata": {},
   "outputs": [],
   "source": [
    "import numpy as np\n",
    "\n",
    "arr = np.array([[10 , 20 , 33 , 14] , [33 , 23 , 24 , 14]])\n",
    "print(f\"Isi Matriks  : \\n {arr} \\n\")\n",
    "\n",
    "print(f\"Nilai terkecil di Matriks: {np.min(arr)}\")\n",
    "print(f\"Nilai terbesar di Matriks: {np.max(arr)}\")\n",
    "print(f\"Nilai Dijumlahkan di Matriks: {np.sum(arr)}\")"
   ]
  },
  {
   "cell_type": "markdown",
   "id": "c7b42cd5",
   "metadata": {},
   "source": [
    "# 5.21 Pandas"
   ]
  },
  {
   "cell_type": "markdown",
   "id": "132d1a6e",
   "metadata": {},
   "source": [
    "# 5.21.1 Membaca File Data pada Pandas"
   ]
  },
  {
   "cell_type": "code",
   "execution_count": null,
   "id": "6376e3bf",
   "metadata": {},
   "outputs": [],
   "source": [
    "import pandas as pd \n",
    "\n",
    "url = \"https://raw.githubusercontent.com/imberlianti/Data-Scientist/main/Campus%20Recruitment/Placement_Data_Full_Class.csv\"\n",
    "data  = pd.read_csv(url)\n",
    "\n",
    "print(data.head(5))"
   ]
  },
  {
   "cell_type": "markdown",
   "id": "31f13a4e",
   "metadata": {},
   "source": [
    "# 5.21.2 Properti Pada Pandas"
   ]
  },
  {
   "cell_type": "code",
   "execution_count": null,
   "id": "20afdce0",
   "metadata": {},
   "outputs": [],
   "source": [
    "import pandas as pd\n",
    "\n",
    "url = \"https://raw.githubusercontent.com/imberlianti/Data-Scientist/main/Campus%20Recruitment/Placement_Data_Full_Class.csv\"\n",
    "data = pd.read_csv(url)\n",
    "\n",
    "print(data.head(5))\n",
    "print(f\"isi coloumn dari data ini adalah: {data.columns} \\n\")\n",
    "\n",
    "print(data['gender'][0 : 5])\n",
    "\n",
    "print(data.iloc[1 : 5])"
   ]
  },
  {
   "cell_type": "markdown",
   "id": "4e5256be",
   "metadata": {},
   "source": [
    "# 5.21.3 Mengurutkan data pada Pandas"
   ]
  },
  {
   "cell_type": "code",
   "execution_count": null,
   "id": "3b12af3e",
   "metadata": {},
   "outputs": [],
   "source": [
    "import pandas as pd\n",
    "\n",
    "url = \"https://raw.githubusercontent.com/imberlianti/Data-Scientist/main/Campus%20Recruitment/Placement_Data_Full_Class.csv\"\n",
    "data = pd.read_csv(url)\n",
    "\n",
    "print(data.sort_values([\"salary\" , \"status\"] , ascending = False).head(5))"
   ]
  },
  {
   "cell_type": "markdown",
   "id": "73331cd4",
   "metadata": {},
   "source": [
    "# 5.21.4 Mengubah data pada Pandas"
   ]
  },
  {
   "cell_type": "code",
   "execution_count": null,
   "id": "771092cd",
   "metadata": {},
   "outputs": [],
   "source": [
    "import pandas as pd \n",
    "import numpy as np\n",
    "\n",
    "url = \"https://raw.githubusercontent.com/imberlianti/Data-Scientist/main/Campus%20Recruitment/Placement_Data_Full_Class.csv\"\n",
    "data = pd.read_csv(url)\n",
    "\n",
    "print(f\"data sebelum di tambah coloumns: \\n {data.head(5)} \\n\\n\")\n",
    "\n",
    "data[\"nilai rata\"] = ( data[\"ssc_p\"] + data[\"hsc_p\"] + data[\"degree_p\"] + data[\"etest_p\"] + data[\"mba_p\"] ) / 5\n",
    "data[\"salary\"] = data[\"salary\"].replace(np.nan, 0)\n",
    "\n",
    "print(data.sort_values(\"nilai rata\" , ascending=False).head(5))\n",
    "\n",
    "print(\"\\nNilai rata-rata terendah = %.2f\" % min(data[\"nilai rata\"]))\n",
    "print(\"Nilai rata-rata tertinggi = %.2f\" % max(data[\"nilai rata\"]))"
   ]
  },
  {
   "cell_type": "markdown",
   "id": "2aa76dac",
   "metadata": {},
   "source": [
    "# 5.21.5 Menyimpan data menggunakan Pandas"
   ]
  },
  {
   "cell_type": "code",
   "execution_count": null,
   "id": "52003be0",
   "metadata": {},
   "outputs": [],
   "source": [
    "import pandas as pd\n",
    "import numpy as np\n",
    "\n",
    "url = \"https://raw.githubusercontent.com/imberlianti/Data-Scientist/main/Campus%20Recruitment/Placement_Data_Full_Class.csv\"\n",
    "data = pd.read_csv(url)\n",
    "\n",
    "data[\"nilai rata\"] = ( data[\"ssc_p\"] + data[\"hsc_p\"] + data[\"degree_p\"] + data[\"etest_p\"] + data[\"mba_p\"] ) / 5\n",
    "data[\"salary\"] = data[\"salary\"].replace(np.nan, 0)\n",
    "\n",
    "data = data.sort_values([\"status\" , \"nilai rata\" , \"salary\"] , ascending = False)\n",
    "data.to_csv(\"data.csv\")\n",
    "\n",
    "print(data)"
   ]
  },
  {
   "cell_type": "markdown",
   "id": "4ccde7b2",
   "metadata": {},
   "source": [
    "# 5.21.6 Menyaring data menggunakan Pandas"
   ]
  },
  {
   "cell_type": "code",
   "execution_count": null,
   "id": "4916e184",
   "metadata": {},
   "outputs": [],
   "source": [
    "import pandas as pd\n",
    "import numpy as np\n",
    "\n",
    "url = \"https://raw.githubusercontent.com/imberlianti/Data-Scientist/main/Campus%20Recruitment/Placement_Data_Full_Class.csv\"\n",
    "data = pd.read_csv(url)\n",
    "\n",
    "data[\"salary\"] = data[\"salary\"].replace(np.nan , 0)\n",
    "data = data.loc[(data[\"salary\"] > 250000) & (data[\"status\"] == \"Placed\")]\n",
    "\n",
    "print(data)"
   ]
  },
  {
   "cell_type": "markdown",
   "id": "07a2a43a",
   "metadata": {},
   "source": [
    "# 5.21.7 Pengelompokan data menggunakan Pandas"
   ]
  },
  {
   "cell_type": "code",
   "execution_count": null,
   "id": "886cf3a3",
   "metadata": {},
   "outputs": [],
   "source": [
    "import pandas as pd\n",
    "\n",
    "url = \"https://raw.githubusercontent.com/imberlianti/Data-Scientist/main/Campus%20Recruitment/Placement_Data_Full_Class.csv\"\n",
    "data = pd.read_csv(url)\n",
    "\n",
    "print(data)\n",
    "print(\"Pengelompokan data berdasarkan gender : \\n\", data.groupby([\"gender\"]).mean())\n",
    "\n",
    "print(data.groupby([\"gender\"]).sum())"
   ]
  },
  {
   "cell_type": "markdown",
   "id": "14d2e390",
   "metadata": {},
   "source": [
    "# 5.22 Matplotlib"
   ]
  },
  {
   "cell_type": "markdown",
   "id": "23270676",
   "metadata": {},
   "source": [
    "# 5.22.1 Grafik sederhana dengan Matplotlib"
   ]
  },
  {
   "cell_type": "code",
   "execution_count": null,
   "id": "b0b5ee3e",
   "metadata": {},
   "outputs": [],
   "source": [
    "import matplotlib.pyplot as plt\n",
    "\n",
    "X = [10 , 13 , 15 ,  21]\n",
    "Y = [11 , 14 , 21 , 24]\n",
    "\n",
    "plt.plot(X , Y)\n",
    "\n",
    "plt.xlabel(\"X\")\n",
    "plt.ylabel(\"Y\")\n",
    "plt.title(\"Test Grafik\")\n",
    "\n",
    "plt.show()"
   ]
  },
  {
   "cell_type": "markdown",
   "id": "b26b5ba3",
   "metadata": {},
   "source": [
    "# 5.22.2 Properti Pembuatan Grafik dengan Matplotib"
   ]
  },
  {
   "cell_type": "code",
   "execution_count": null,
   "id": "b64cde37",
   "metadata": {},
   "outputs": [],
   "source": [
    "import matplotlib.pyplot as plt\n",
    "\n",
    "X = [-8 , -7 , -6 , -5 , -4 , -3 , -2 , -1 , 0 , 1 , 2 , 3 , 4 , 5 , 6 , 7 , 8]\n",
    "Y = [50 , 22 , 21 , 40 , 11 , 33 , 43 , 22 , 19 , 21 , 44 , 41 , 45 , 54 , 12 , 11 , 10]\n",
    "X_ONE = [-2 , -1 , 0 , 1 , 2 , 3 , 4 , 5 , 6 , 7]\n",
    "Y_ONE = [-3 , 10 , 15 , 22 , 21 , 19 , 12 , 11 , 19 , 18]\n",
    "\n",
    "plt.figure(figsize = (2,2) , dpi = 300)\n",
    "\n",
    "plt.plot(X , Y , label = \"Y = X ^ 2\" , color = \"green\" , linewidth = 3 , marker = \".\" , markersize = 10, \n",
    "        markeredgecolor = \"red\" , linestyle = \"-.\")\n",
    "\n",
    "plt.plot(X_ONE , Y_ONE)\n",
    "plt.title(\"Grafik Y = X ^ 2\")\n",
    "\n",
    "plt.xlabel(\"X\")\n",
    "plt.ylabel(\"Y\")\n",
    "\n",
    "plt.xticks([-8 , -7 , -6 , -5 , -4 , -3 , -2 , -1 , 0 , 1 , 2 , 3 , 4 , 5 , 6 , 7 , 8])\n",
    "plt.yticks([50 , 22 , 21 , 40 , 11 , 33 , 43 , 22 , 19 , 21 , 44 , 41 , 45 , 54 , 12 , 11 , 10])\n",
    "\n",
    "plt.legend()\n",
    "plt.show()"
   ]
  },
  {
   "cell_type": "markdown",
   "id": "e4d53e4e",
   "metadata": {},
   "source": [
    "# 5.22.3 Histogram sederhana dengan Matplotlib"
   ]
  },
  {
   "cell_type": "code",
   "execution_count": null,
   "id": "7457ccd7",
   "metadata": {},
   "outputs": [],
   "source": [
    "import matplotlib.pyplot as plt\n",
    "import random as rd\n",
    "\n",
    "gender = [\"Mahasiswa\" , \"Mahasiswi\"]\n",
    "jumlah = [rd.randint(1, 100) , rd.randint(1,100)]\n",
    "\n",
    "plt.bar(gender , jumlah)\n",
    "plt.title(\"Histogram Sederhana\")\n",
    "plt.show()"
   ]
  },
  {
   "cell_type": "markdown",
   "id": "3df8aa94",
   "metadata": {},
   "source": [
    "# 5.22.4 Properti Pembuatan Histogram dengan Matplotlib"
   ]
  },
  {
   "cell_type": "code",
   "execution_count": null,
   "id": "22900c32",
   "metadata": {},
   "outputs": [],
   "source": [
    "import matplotlib.pyplot as plt\n",
    "\n",
    "Vocalis = [\"Ari Lasso\" , \"Once\" , \"Axl Rose\" , \"Freddie Mercury\"]\n",
    "Fans = [200 , 180 , 800 , 1200]\n",
    "\n",
    "plt.figure(figsize=(8 , 4))\n",
    "histogram = plt.bar(Vocalis , Fans , color = 'blue')\n",
    "\n",
    "histogram[0].set_hatch(\"x\")\n",
    "histogram[1].set_hatch(\"o\")\n",
    "histogram[2].set_hatch(\"/\")\n",
    "histogram[3].set_hatch(\"x\")\n",
    "\n",
    "plt.show()"
   ]
  },
  {
   "cell_type": "markdown",
   "id": "f27a9574",
   "metadata": {},
   "source": [
    "# Implementasi Pandas Numpy dan Matplotlib"
   ]
  },
  {
   "cell_type": "code",
   "execution_count": null,
   "id": "1e3c9dc7",
   "metadata": {},
   "outputs": [],
   "source": [
    "import pandas as pd\n",
    "import matplotlib.pyplot as plt\n",
    "import numpy as np\n",
    "\n",
    "url = \"https://raw.githubusercontent.com/imberlianti/Tugas/main/Data%20Scientist/train.csv\"\n",
    "\n",
    "data = pd.read_csv(url)\n",
    "\n",
    "lived = data[(data[\"Survived\"] == 1)]\n",
    "died = data[(data[\"Survived\"] == 0)]\n",
    "\n",
    "TempFemaleDied = died[(died[\"Sex\"] == \"female\")]\n",
    "TempMaleDied = died[(died[\"Sex\"] == \"male\")]\n",
    "\n",
    "TempFemaleSurvived = lived[(lived[\"Sex\"] == \"female\")]\n",
    "TempMaleSurvived = lived[(lived[\"Sex\"] == \"male\")]\n",
    "\n",
    "FemaleDied = len(TempFemaleDied)\n",
    "FemaleSurvived = len(TempFemaleSurvived)\n",
    "\n",
    "MaleDied = len(TempMaleDied)\n",
    "MaleSurvived= len(TempMaleSurvived)\n",
    "\n",
    "\n",
    "N = 1\n",
    "R = np.arange(N)\n",
    "width = 0.25\n",
    "\n",
    "plt.bar(R, FemaleSurvived , color = \"green\" , width = width , edgecolor = \"black\" , label = \"Perempuan Selamat\")\n",
    "plt.bar(R + width, FemaleDied , color = \"blue\" , width = width , edgecolor = \"black\" , label = \"Perempuan Meninggal\")\n",
    "\n",
    "plt.bar(R + (width * 3), MaleSurvived , color = \"red\" , width = width , edgecolor = \"black\" , label = \"Laki-Laki Selamat\")\n",
    "plt.bar(R + (width * 4), MaleDied , color = \"purple\" , width = width , edgecolor = \"black\" , label = \"Laki - Laki Meninggal\")\n",
    "\n",
    "plt.ylabel(\"Jumlah Penumpang\")\n",
    "plt.xlabel(\"Perbandingan\")\n",
    "\n",
    "plt.xticks(R + width, [\"\"])\n",
    "plt.legend()\n",
    "plt.title(\"Data Perbandingan Titanic\")\n",
    "\n",
    "plt.show()"
   ]
  },
  {
   "cell_type": "markdown",
   "id": "3271c629",
   "metadata": {},
   "source": [
    "# TERIMA KASIH ~ SABINA BERLIANTI ~"
   ]
  }
 ],
 "metadata": {
  "kernelspec": {
   "display_name": "Python 3 (ipykernel)",
   "language": "python",
   "name": "python3"
  },
  "language_info": {
   "codemirror_mode": {
    "name": "ipython",
    "version": 3
   },
   "file_extension": ".py",
   "mimetype": "text/x-python",
   "name": "python",
   "nbconvert_exporter": "python",
   "pygments_lexer": "ipython3",
   "version": "3.8.10"
  }
 },
 "nbformat": 4,
 "nbformat_minor": 5
}
