{
 "cells": [
  {
   "cell_type": "markdown",
   "id": "45b1c84f",
   "metadata": {},
   "source": [
    "# 5.12 List di Python"
   ]
  },
  {
   "cell_type": "code",
   "execution_count": 1,
   "id": "f0d9192d",
   "metadata": {},
   "outputs": [
    {
     "name": "stdout",
     "output_type": "stream",
     "text": [
      "Isi Barang =  ['topi', 'kaos', 'baju', 'celana']\n",
      "Isi Barang Pertama =  topi\n",
      "Isi Barang terakhir =  celana\n"
     ]
    }
   ],
   "source": [
    "barang = ['topi' , 'kaos' , 'baju' , 'celana']\n",
    "\n",
    "print(\"Isi Barang = \" , barang)\n",
    "print(\"Isi Barang Pertama = \" , barang[0])\n",
    "print(\"Isi Barang terakhir = \" , barang[-1])"
   ]
  },
  {
   "cell_type": "code",
   "execution_count": 2,
   "id": "eac7e562",
   "metadata": {},
   "outputs": [
    {
     "name": "stdout",
     "output_type": "stream",
     "text": [
      "Masukkan 5 Matkulmu ke List: \n",
      "Masukkan matkul 1 = alpro\n",
      "Masukkan matkul 2 = matik\n",
      "Masukkan matkul 3 = aljabar\n",
      "Masukkan matkul 4 = agama\n",
      "Masukkan matkul 5 = bahasa\n",
      "Isi Matkul adalah : ['alpro', 'matik', 'aljabar', 'agama', 'bahasa']\n"
     ]
    }
   ],
   "source": [
    "NewMatkul = []\n",
    "jum = 5\n",
    "\n",
    "print(\"Masukkan 5 Matkulmu ke List: \")\n",
    "for matkul in range(jum):\n",
    "    data = input(f\"Masukkan matkul {matkul + 1} = \")\n",
    "    NewMatkul.append(data)\n",
    "\n",
    "print(f\"Isi Matkul adalah : {NewMatkul}\")"
   ]
  },
  {
   "cell_type": "markdown",
   "id": "9f95b562",
   "metadata": {},
   "source": [
    "# 5.13 Metoda List"
   ]
  },
  {
   "cell_type": "code",
   "execution_count": 1,
   "id": "5d1cfdbe",
   "metadata": {},
   "outputs": [
    {
     "name": "stdout",
     "output_type": "stream",
     "text": [
      "Isi List Makanan = ['ayam', 'bakso', 'mie', 'nasi goreng']\n",
      "Masukkan Nama Makanan : pizza\n",
      "Isi List Makanan saat ini = ['ayam', 'bakso', 'mie', 'nasi goreng', 'pizza']\n",
      "Isi list Makanan sekarang = ['ayam', 'pizza', 'bakso', 'mie', 'nasi goreng', 'pizza']\n",
      "Isi list setelah di remove = ['ayam', 'pizza', 'mie', 'nasi goreng', 'pizza']\n"
     ]
    }
   ],
   "source": [
    "Makanan = ['ayam' , 'bakso' , 'mie' , 'nasi goreng']\n",
    "print(f\"Isi List Makanan = {Makanan}\")\n",
    "\n",
    "inMakan = input(\"Masukkan Nama Makanan : \")\n",
    "Makanan.append(inMakan)\n",
    "print(f\"Isi List Makanan saat ini = {Makanan}\")\n",
    "\n",
    "Makanan.insert(1 , 'pizza')\n",
    "print(f\"Isi list Makanan sekarang = {Makanan}\")\n",
    "\n",
    "Makanan.remove('bakso')\n",
    "print(f\"Isi list setelah di remove = {Makanan}\")"
   ]
  },
  {
   "cell_type": "code",
   "execution_count": 2,
   "id": "562aad14",
   "metadata": {},
   "outputs": [
    {
     "name": "stdout",
     "output_type": "stream",
     "text": [
      "Masukkan 5 Nama Teman : \n",
      "\n",
      "Masukkan Nama Teman ke-1 : made\n",
      "Masukkan Nama Teman ke-2 : wayan\n",
      "Masukkan Nama Teman ke-3 : ketut\n",
      "Masukkan Nama Teman ke-4 : yoga\n",
      "Masukkan Nama Teman ke-5 : kaka\n",
      "['made', 'wayan', 'ketut', 'yoga', 'kaka']\n",
      "False\n",
      "Panjang List = 5\n"
     ]
    }
   ],
   "source": [
    "Name = []\n",
    "index = 5\n",
    "\n",
    "print(\"Masukkan 5 Nama Teman : \\n\")\n",
    "for name in range(index):\n",
    "    NamaTeman = input(f\"Masukkan Nama Teman ke-{name + 1} : \")\n",
    "    Name.append(NamaTeman)\n",
    "\n",
    "print(Name)\n",
    "\n",
    "print('Budi' in Name)\n",
    "print(f\"Panjang List = {len(Name)}\")"
   ]
  },
  {
   "cell_type": "markdown",
   "id": "04e8565a",
   "metadata": {},
   "source": [
    "# 5.14 For Loop"
   ]
  },
  {
   "cell_type": "code",
   "execution_count": 3,
   "id": "02432bd3",
   "metadata": {},
   "outputs": [
    {
     "name": "stdout",
     "output_type": "stream",
     "text": [
      "Masukkan 5 Nama Buah: \n",
      "\n",
      "Masukkan Nama buah ke-1 = apel\n",
      "Masukkan Nama buah ke-2 = stroberi\n",
      "Masukkan Nama buah ke-3 = mangga\n",
      "Masukkan Nama buah ke-4 = jeruk\n",
      "Masukkan Nama buah ke-5 = alpokat\n",
      "Isi List Buah : \n",
      "Buah ke-1 = apel\n",
      "Buah ke-2 = stroberi\n",
      "Buah ke-3 = mangga\n",
      "Buah ke-4 = jeruk\n",
      "Buah ke-5 = alpokat\n"
     ]
    }
   ],
   "source": [
    "Fruit = []\n",
    "Index = 5\n",
    "\n",
    "print(\"Masukkan 5 Nama Buah: \\n\")\n",
    "for buah in range(Index):\n",
    "    temp = input(f\"Masukkan Nama buah ke-{buah + 1} = \")\n",
    "    Fruit.append(temp)\n",
    "\n",
    "print(\"Isi List Buah : \")\n",
    "id = 1\n",
    "\n",
    "for fruit in Fruit:\n",
    "    print(f\"Buah ke-{id} = {fruit}\")\n",
    "    id += 1 "
   ]
  },
  {
   "cell_type": "code",
   "execution_count": 4,
   "id": "6650cf13",
   "metadata": {},
   "outputs": [
    {
     "name": "stdout",
     "output_type": "stream",
     "text": [
      "Isi List Nama: \n",
      "Nama ke-1 = wayan\n",
      "Nama ke-2 = made\n",
      "Nama ke-3 = komang\n",
      "Nama ke-4 = ketut\n"
     ]
    }
   ],
   "source": [
    "Nama = ['wayan' , 'made' , 'komang' , 'ketut']\n",
    "indx = 0\n",
    "\n",
    "print(\"Isi List Nama: \")\n",
    "while indx < len(Nama):\n",
    "    print(f\"Nama ke-{indx + 1} = {Nama[indx]}\")\n",
    "    indx += 1"
   ]
  },
  {
   "cell_type": "markdown",
   "id": "0dbe7416",
   "metadata": {},
   "source": [
    "# 5.15 Fungsi Range"
   ]
  },
  {
   "cell_type": "code",
   "execution_count": 5,
   "id": "39866b3b",
   "metadata": {},
   "outputs": [
    {
     "name": "stdout",
     "output_type": "stream",
     "text": [
      "Banyak Angka = range(0, 8)\n",
      "0\n",
      "1\n",
      "2\n",
      "3\n",
      "4\n",
      "5\n",
      "6\n",
      "7\n"
     ]
    }
   ],
   "source": [
    "thisAngka = range(8)\n",
    "print(f\"Banyak Angka = {thisAngka}\")\n",
    "\n",
    "for Exist in thisAngka:\n",
    "    print(Exist)"
   ]
  },
  {
   "cell_type": "code",
   "execution_count": 6,
   "id": "bebc5b66",
   "metadata": {},
   "outputs": [
    {
     "name": "stdout",
     "output_type": "stream",
     "text": [
      "Cetak Bilangan Genap Sampe 20: \n",
      "2\n",
      "4\n",
      "6\n",
      "8\n",
      "10\n",
      "12\n",
      "14\n",
      "16\n",
      "18\n",
      "20\n"
     ]
    }
   ],
   "source": [
    "print(\"Cetak Bilangan Genap Sampe 20: \")\n",
    "for Genap in range(2 , 22 , 2):\n",
    "    print(Genap)"
   ]
  },
  {
   "cell_type": "code",
   "execution_count": 10,
   "id": "37812f1a",
   "metadata": {},
   "outputs": [
    {
     "name": "stdout",
     "output_type": "stream",
     "text": [
      "Cetak Bilangan Genap dari 3 Sampe 20: \n",
      "3\n",
      "5\n",
      "7\n",
      "9\n",
      "11\n",
      "13\n",
      "15\n",
      "17\n",
      "19\n"
     ]
    }
   ],
   "source": [
    "print(\"Cetak Bilangan Genap dari 3 Sampe 20: \")\n",
    "for Ganjil in range(3 , 20 , 2):\n",
    "    print(Ganjil)"
   ]
  },
  {
   "cell_type": "markdown",
   "id": "c821a760",
   "metadata": {},
   "source": [
    "# Latihan 1\n",
    "Buatlah program untuk mencari nilai terbesar di dalam suatu list."
   ]
  },
  {
   "cell_type": "code",
   "execution_count": 9,
   "id": "c307a44d",
   "metadata": {},
   "outputs": [
    {
     "name": "stdout",
     "output_type": "stream",
     "text": [
      "Isi List = [41, 8, 24, 3, 29, 44, 36, 23, 18, 32]\n",
      "List setelah di Sortir: [3, 8, 18, 23, 24, 29, 32, 36, 41, 44]\n",
      "Data Terbesar adalah = 44\n",
      "Data Terkecil adalah = 3\n"
     ]
    }
   ],
   "source": [
    "import random as rd\n",
    "\n",
    "Data = []\n",
    "for temp in range(10):\n",
    "    Data.append(rd.randint(1 , 50))\n",
    "\n",
    "print(f\"Isi List = {Data}\")\n",
    "\n",
    "for i in range(len(Data)):\n",
    "    for sort in range(len(Data) - 1):\n",
    "        if Data[sort + 1] < Data[sort]:\n",
    "            temp = Data[sort]\n",
    "            Data[sort] = Data[sort + 1]\n",
    "            Data[sort + 1] = temp\n",
    "\n",
    "print(f\"List setelah di Sortir: {Data}\")\n",
    "\n",
    "MAX = Data[0]\n",
    "MIN = Data[0]\n",
    "SUM = 0\n",
    "\n",
    "for data in Data:\n",
    "    if data > MAX : \n",
    "        MAX = data\n",
    "    \n",
    "    if data < MIN : \n",
    "        MIN = data\n",
    "\n",
    "print(f\"Data Terbesar adalah = {MAX}\")\n",
    "print(f\"Data Terkecil adalah = {MIN}\")"
   ]
  },
  {
   "cell_type": "markdown",
   "id": "0c1d7586",
   "metadata": {},
   "source": [
    "# 5.16 List 2 Dimensi"
   ]
  },
  {
   "cell_type": "code",
   "execution_count": 8,
   "id": "8d65b7bc",
   "metadata": {},
   "outputs": [
    {
     "name": "stdout",
     "output_type": "stream",
     "text": [
      "Isi Matriks = [[0, 1, 2, 3], [5, 4, 7, 6], [9, 8, 11, 10], [12, 13, 16, 14]]\n",
      "Isi Matriks baris pertama = [0, 1, 2, 3]\n",
      "ISi matriks [2][1] = 8\n",
      "Isi Matriks [2][1] = 30\n",
      "Isi Matriks saat ini = [[0, 1, 2, 3], [5, 4, 7, 6], [9, 30, 11, 10], [12, 13, 16, 14]]\n",
      "[0, 1, 2, 3]\n",
      "0\n",
      "1\n",
      "2\n",
      "3\n",
      "[5, 4, 7, 6]\n",
      "5\n",
      "4\n",
      "7\n",
      "6\n",
      "[9, 30, 11, 10]\n",
      "9\n",
      "30\n",
      "11\n",
      "10\n",
      "[12, 13, 16, 14]\n",
      "12\n",
      "13\n",
      "16\n",
      "14\n"
     ]
    }
   ],
   "source": [
    "Matriks = [ [0 ,1, 2, 3]  , [5 , 4 , 7, 6] , \n",
    "            [9 , 8 , 11 , 10] , [12 , 13 , 16, 14]]\n",
    "\n",
    "print(f\"Isi Matriks = {Matriks}\")\n",
    "print(f\"Isi Matriks baris pertama = {Matriks[0]}\")\n",
    "\n",
    "print(f\"ISi matriks [2][1] = {Matriks[2][1]}\")\n",
    "\n",
    "Matriks[2][1] = 30\n",
    "print(f\"Isi Matriks [2][1] = {Matriks[2][1]}\")\n",
    "\n",
    "print(f\"Isi Matriks saat ini = {Matriks}\")\n",
    "\n",
    "for Baris in Matriks:\n",
    "    print(Baris)\n",
    "    for Kolom in Baris:\n",
    "        print(Kolom)"
   ]
  },
  {
   "cell_type": "markdown",
   "id": "eb97d5c5",
   "metadata": {},
   "source": [
    "# 5.17 Tuples"
   ]
  },
  {
   "cell_type": "code",
   "execution_count": 11,
   "id": "f3b464b6",
   "metadata": {},
   "outputs": [
    {
     "name": "stdout",
     "output_type": "stream",
     "text": [
      "Nama di urutan ke-2 = Ketut\n",
      "Nama yang ada di urutan 1 - 3 = ('Made', 'Ketut', 'Nyoman')\n",
      "Isi Tuples Nama: \n",
      "Nama ke-1: Made\n",
      "Nama ke-2: Ketut\n",
      "Nama ke-3: Nyoman\n",
      "Nama ke-4: Wayan\n",
      "Nama ke-5: Putu\n"
     ]
    }
   ],
   "source": [
    "import random as rd\n",
    "\n",
    "ConstNama = ('Made' , 'Ketut' , 'Nyoman' , 'Wayan' , 'Putu')\n",
    "selected = rd.randint(0 , 4)\n",
    "\n",
    "print(f\"Nama di urutan ke-{selected + 1} = {ConstNama[selected]}\")\n",
    "\n",
    "print(f\"Nama yang ada di urutan 1 - 3 = {ConstNama[0 : 3]}\")\n",
    "\n",
    "print(\"Isi Tuples Nama: \")\n",
    "id = 1\n",
    "\n",
    "for nama in ConstNama:\n",
    "    print(f\"Nama ke-{id}: {nama}\")\n",
    "    id += 1"
   ]
  },
  {
   "cell_type": "markdown",
   "id": "36d02e49",
   "metadata": {},
   "source": [
    "# 5.18 Dictionaries"
   ]
  },
  {
   "cell_type": "code",
   "execution_count": 12,
   "id": "9fc91e47",
   "metadata": {},
   "outputs": [
    {
     "name": "stdout",
     "output_type": "stream",
     "text": [
      "Mahasiswa Atas Nama: Wayan, Dengan Umur: 18 tahun, tinggal di Denpasar\n",
      "Mahasiswa Atas Nama: Made, Dengan Umur: 19 tahun, tinggal di Badung\n",
      "Mahasiswa Atas Nama: Ketut, Dengan Umur: 21 tahun, tinggal di Tabanan\n",
      "Mahasiswa Atas Nama: Ngurah, Dengan Umur: 18 tahun, tinggal di Karangasem\n"
     ]
    }
   ],
   "source": [
    "MahasiswaDB =   {   \"Name\" : {1:\"Wayan\", 2:\"Made\", 3:\"Ketut\", 4:\"Ngurah\"} , \n",
    "                    \"Old\" : {1: 18,  2: 19, 3: 21, 4: 18},\n",
    "                    \"Lived\" : {1: \"Denpasar\" , 2: \"Badung\" , 3: \"Tabanan\", 4: \"Karangasem\"} \n",
    "                }\n",
    "\n",
    "for i in range(4):\n",
    "    print(f\"Mahasiswa Atas Nama: {MahasiswaDB['Name'][i+1]}, Dengan Umur: {MahasiswaDB['Old'][i+1]} tahun, tinggal di {MahasiswaDB['Lived'][i+1]}\")"
   ]
  },
  {
   "cell_type": "markdown",
   "id": "422c25d0",
   "metadata": {},
   "source": [
    "# Latihan 2\n",
    "Buatlah program untuk merubah nomor HP yang tadinya berupa angka menjadi sebutan bilangan tersebut."
   ]
  },
  {
   "cell_type": "code",
   "execution_count": 13,
   "id": "a235d66a",
   "metadata": {},
   "outputs": [
    {
     "name": "stdout",
     "output_type": "stream",
     "text": [
      "Masukkan Nomor Hp: 08952132456\n",
      "Nomor Hp dalam Huruf: NOL DELAPAN SEMBILAN LIMA DUA SATU TIGA DUA EMPAT LIMA ENAM \n"
     ]
    }
   ],
   "source": [
    "ConstNomor = {  0 : \"NOL\" , 1: \"SATU\" , 2: \"DUA\" , 3: \"TIGA\" , 4: \"EMPAT\", \n",
    "                5: \"LIMA\" , 6: \"ENAM\" , 7: \"TUJUH\" , 8: \"DELAPAN\" , 9: \"SEMBILAN\"}\n",
    "\n",
    "TempNomor = input(\"Masukkan Nomor Hp: \")\n",
    "thisNomor = \"\"\n",
    "\n",
    "for exist in TempNomor:\n",
    "    thisNomor = thisNomor + ConstNomor.get(int(exist)) + \" \"\n",
    "\n",
    "print(f\"Nomor Hp dalam Huruf: {thisNomor}\")"
   ]
  },
  {
   "cell_type": "markdown",
   "id": "cb020fce",
   "metadata": {},
   "source": [
    "# 5.19 Fungsi Dalam Python"
   ]
  },
  {
   "cell_type": "code",
   "execution_count": 15,
   "id": "b43eb776",
   "metadata": {},
   "outputs": [
    {
     "name": "stdout",
     "output_type": "stream",
     "text": [
      "Masukkan Batas Fibonaci: 5\n",
      "Bilangan Fibonaci adalah = 1, 1, 2, 3, 5\n"
     ]
    }
   ],
   "source": [
    "def Fibonaci(Batas):\n",
    "    a , b = 0 , 1\n",
    "    tempFib = \"\"\n",
    "    for i in range(Batas):\n",
    "        c = a + b\n",
    "        a , b = b , c\n",
    "        tempFib += str(a)\n",
    "        if i != Batas - 1: tempFib += \", \"\n",
    "\n",
    "    return tempFib\n",
    "\n",
    "Batas = int(input(\"Masukkan Batas Fibonaci: \"))\n",
    "print(\"Bilangan Fibonaci adalah =\" , Fibonaci(Batas))"
   ]
  },
  {
   "cell_type": "markdown",
   "id": "166f1e55",
   "metadata": {},
   "source": [
    "# 5.19.1 Tugas Fungsi pada Python"
   ]
  },
  {
   "cell_type": "code",
   "execution_count": 16,
   "id": "f0102e4d",
   "metadata": {},
   "outputs": [
    {
     "name": "stdout",
     "output_type": "stream",
     "text": [
      "Masukkan Angka 1 : 10\n",
      "Masukkan Angka 2 : 5\n",
      "Hasil Penjumlahan A + B = 15.0\n",
      "Hasil Perkalian A x B = 50.0\n"
     ]
    }
   ],
   "source": [
    "def Pertambahan(A , B):\n",
    "    return A + B\n",
    "\n",
    "def Perkalian(A , B):\n",
    "    return A * B\n",
    "\n",
    "A = float(input(\"Masukkan Angka 1 : \"))\n",
    "B = float(input(\"Masukkan Angka 2 : \"))\n",
    "\n",
    "print(\"Hasil Penjumlahan A + B =\" , Pertambahan(A , B))\n",
    "print(\"Hasil Perkalian A x B =\" , Perkalian(A , B))"
   ]
  },
  {
   "cell_type": "markdown",
   "id": "3a9a78bf",
   "metadata": {},
   "source": [
    "# Latihan 3\n",
    "Buatlah program yang menggunakan fungsi Python untuk menghitung luas segitiga, lingkaran, persegi dan persegi panjang.Selain itu berikan peringatan bagi bidang lain yang tidak termasuk perhitungan."
   ]
  },
  {
   "cell_type": "code",
   "execution_count": 17,
   "id": "0be08585",
   "metadata": {},
   "outputs": [
    {
     "name": "stdout",
     "output_type": "stream",
     "text": [
      "Input jenis Bidang: segitiga\n",
      "Berapa Panjang Alas = 10\n",
      "Berapa tingginya = 2\n",
      "Luas segitiga = 10.0\n"
     ]
    }
   ],
   "source": [
    "class Perhitungan:\n",
    "    def LuasSegitiga(a , t):\n",
    "        return 0.5 * a * t\n",
    "    \n",
    "    def LuasLingkaran(r):\n",
    "        return 3.14 * (r ** 2)\n",
    "    \n",
    "    def LuasPersegi(s):\n",
    "        return s * 2\n",
    "    \n",
    "    def LuasPersegiPanjang(p , l):\n",
    "        return p * l\n",
    "\n",
    "Bidang = input(\"Input jenis Bidang: \")\n",
    "\n",
    "if Bidang.lower() == \"segitiga\":\n",
    "    a = float(input(\"Berapa Panjang Alas = \"))\n",
    "    t = float(input(\"Berapa tingginya = \"))\n",
    "    \n",
    "    print(f\"Luas {Bidang} = {Perhitungan.LuasSegitiga(a , t)}\")\n",
    "\n",
    "elif Bidang.lower() == \"lingkaran\":\n",
    "    r = float(input(\"Masukkan panjang jari - jari = \"))\n",
    "    print(f\"Luas Lingkaran = {Perhitungan.LuasLingkaran(r)}\")\n",
    "\n",
    "elif Bidang.lower() == \"persegi\":\n",
    "    s = float(input(\"Masukkan Panjang Sisinya = \"))\n",
    "    print(f\"Luas Persegi = {Perhitungan.LuasPersegi(s)}\")\n",
    "\n",
    "elif Bidang.lower() == \"persegi panjang\":\n",
    "    p = float(input(\"Masukkan Panjangnya = \"))\n",
    "    l = float(input(\"Masukkan Lebarnya = \"))\n",
    "\n",
    "    print(f\"Luas Persegi Panjang = {Perhitungan.LuasPersegiPanjang(p , l)}\")\n",
    "\n",
    "else:\n",
    "    print(f\"Bidang {Bidang} yang dimasukkan tidak ada.....\")\n",
    "    print(\"Hanya ada segitiga , persegi , lingkaran dan persegi panjang saja.\")"
   ]
  },
  {
   "cell_type": "markdown",
   "id": "c42a0e6f",
   "metadata": {},
   "source": [
    "# 5.20 Numpy"
   ]
  },
  {
   "cell_type": "markdown",
   "id": "83602dc9",
   "metadata": {},
   "source": [
    "# 5.20.1 Perintah Dasar Pada Nunpy"
   ]
  },
  {
   "cell_type": "code",
   "execution_count": 3,
   "id": "223ec01c",
   "metadata": {},
   "outputs": [
    {
     "name": "stdout",
     "output_type": "stream",
     "text": [
      "[[10 15 12 13  9]\n",
      " [30 12 16 17 21]\n",
      " [15 23 13 14 22]\n",
      " [ 1  4  5  8 10]]\n",
      "Dimensi array tersebut adalah = 2\n",
      "Shape array tersebut adalah = (4, 5)\n"
     ]
    }
   ],
   "source": [
    "import numpy as np\n",
    "\n",
    "arr = np.array([[10 , 15 , 12 , 13 , 9] , [30 , 12 , 16 , 17 , 21] ,\n",
    "                [15 , 23 , 13 , 14 ,22] , [1 , 4 , 5 , 8 , 10]])\n",
    "\n",
    "print(arr)\n",
    "\n",
    "print(f\"Dimensi array tersebut adalah = {arr.ndim}\")\n",
    "print(f\"Shape array tersebut adalah = {arr.shape}\")"
   ]
  },
  {
   "cell_type": "markdown",
   "id": "7caf9675",
   "metadata": {},
   "source": [
    "# 5.20.2 Memanggil Anggota, Kolom dan Baris dengan Numpy"
   ]
  },
  {
   "cell_type": "code",
   "execution_count": 4,
   "id": "18862873",
   "metadata": {},
   "outputs": [
    {
     "name": "stdout",
     "output_type": "stream",
     "text": [
      "Isi Array adalah : \n",
      " [[10 12 13 14]\n",
      " [30 23 12 14]\n",
      " [23 14 25 22]]\n",
      "Isi Array baris ke [1] kolom [4] =  14 \n",
      "Isi Array baris ke 2 = [30 23 12 14]\n",
      "\n",
      "Mengubah isi array baris ke 2 kolom ke 1` menjadi 50\n",
      "[[10 12 13 14]\n",
      " [50 23 12 14]\n",
      " [23 14 25 22]]\n",
      "Isi array array baris ke-2 setelah dirubah isinya = [50 23 12 14]\n"
     ]
    }
   ],
   "source": [
    "import numpy as np\n",
    "\n",
    "arr = np.array([[10 , 12 , 13 , 14] , [30 , 23 , 12 , 14] , [23 , 14 , 25 ,22]])\n",
    "\n",
    "print(\"Isi Array adalah : \\n\" , arr)\n",
    "print(f\"Isi Array baris ke [1] kolom [4] =  {arr[0 , 3]} \")\n",
    "\n",
    "print(f\"Isi Array baris ke 2 = {arr[1,:]}\")\n",
    "print(\"\\nMengubah isi array baris ke 2 kolom ke 1` menjadi 50\")\n",
    "\n",
    "arr[1 , 0] = 50\n",
    "print(arr)\n",
    "print(f\"Isi array array baris ke-2 setelah dirubah isinya = {arr[1 , :]}\")"
   ]
  },
  {
   "cell_type": "markdown",
   "id": "bac848be",
   "metadata": {},
   "source": [
    "# 5.20.3 Matriks pada Numpy"
   ]
  },
  {
   "cell_type": "code",
   "execution_count": 5,
   "id": "525d6b7a",
   "metadata": {},
   "outputs": [
    {
     "name": "stdout",
     "output_type": "stream",
     "text": [
      "Matriks 2 dimensi yang isinya semua 1 : \n",
      " [[1. 1. 1.]\n",
      " [1. 1. 1.]]\n",
      "\n",
      "Matriks 3 dimensi yang isinya 0: \n",
      " [[0. 0.]\n",
      " [0. 0.]\n",
      " [0. 0.]]\n",
      "\n",
      "Matriks identitas 4 dimensi : \n",
      " [[1. 0. 0. 0.]\n",
      " [0. 1. 0. 0.]\n",
      " [0. 0. 1. 0.]\n",
      " [0. 0. 0. 1.]]\n",
      "\n",
      "Matriks Full 3 Dimensi : \n",
      " [[9 9]\n",
      " [9 9]\n",
      " [9 9]]\n",
      "\n",
      "Matriks random 3 dimensi : \n",
      " [[2 9 5 7]\n",
      " [1 9 9 6]\n",
      " [6 2 8 2]]\n"
     ]
    }
   ],
   "source": [
    "import numpy as np\n",
    "import random as rd\n",
    "\n",
    "print(f\"Matriks 2 dimensi yang isinya semua 1 : \\n {np.ones((2 , 3))}\")\n",
    "print(f\"\\nMatriks 3 dimensi yang isinya 0: \\n {np.zeros((3 , 2))}\")\n",
    "\n",
    "print(f\"\\nMatriks identitas 4 dimensi : \\n {np.identity(4)}\")\n",
    "print(f\"\\nMatriks Full 3 Dimensi : \\n {np.full((3 , 2) , 9)}\")\n",
    "\n",
    "print(f\"\\nMatriks random 3 dimensi : \\n {np.random  .randint(1 , 10 , size=(3 , 4))}\")"
   ]
  },
  {
   "cell_type": "markdown",
   "id": "800a8bb3",
   "metadata": {},
   "source": [
    "# Latihan 4\n",
    "Buatlah matrik ukuran 10 x 10 berikut dengan menggunakan Numpy"
   ]
  },
  {
   "cell_type": "code",
   "execution_count": 6,
   "id": "36ed42c5",
   "metadata": {},
   "outputs": [
    {
     "name": "stdout",
     "output_type": "stream",
     "text": [
      "[[9. 0. 0. 0. 0. 0. 0. 0. 0. 0.]\n",
      " [0. 9. 1. 1. 1. 1. 1. 1. 1. 0.]\n",
      " [0. 1. 9. 0. 0. 0. 0. 0. 1. 0.]\n",
      " [0. 1. 0. 9. 2. 2. 2. 0. 1. 0.]\n",
      " [0. 1. 0. 2. 9. 0. 2. 0. 1. 0.]\n",
      " [0. 1. 0. 2. 0. 9. 2. 0. 1. 0.]\n",
      " [0. 1. 0. 2. 2. 2. 9. 0. 1. 0.]\n",
      " [0. 1. 0. 0. 0. 0. 0. 9. 1. 0.]\n",
      " [0. 1. 1. 1. 1. 1. 1. 1. 9. 0.]\n",
      " [0. 0. 0. 0. 0. 0. 0. 0. 0. 9.]]\n"
     ]
    }
   ],
   "source": [
    "import numpy as np\n",
    "\n",
    "mat_idnt= np.identity(10)\n",
    "idnt_with_nine = 9 * mat_idnt\n",
    "\n",
    "out_idnt_one = np.ones((8 , 8))\n",
    "idnt_with_one = np.identity(8) * 8\n",
    "\n",
    "is_equal_to = out_idnt_one + idnt_with_one\n",
    "idnt_with_nine[1:-1 , 1:-1] = is_equal_to\n",
    "\n",
    "is_now_out = np.identity(6) * 9\n",
    "idnt_with_nine[2 : -2 , 2: -2] = is_now_out\n",
    "\n",
    "this_one = np.ones((4 , 4)) * 2\n",
    "this_idnt = np.identity(4) * 7\n",
    "equal = this_one + this_idnt\n",
    "\n",
    "idnt_with_nine[3: -3 , 3: -3] = equal\n",
    "\n",
    "end_of_idnt = np.identity(2) * 9\n",
    "idnt_with_nine[4:-4 , 4:-4] = end_of_idnt\n",
    "\n",
    "print(idnt_with_nine)"
   ]
  },
  {
   "cell_type": "markdown",
   "id": "14b28243",
   "metadata": {},
   "source": [
    "# 5.20.4 Copy pada Numpy"
   ]
  },
  {
   "cell_type": "code",
   "execution_count": 7,
   "id": "aced398e",
   "metadata": {},
   "outputs": [
    {
     "name": "stdout",
     "output_type": "stream",
     "text": [
      "Isi array 1 adalah = \n",
      " [[10 23 15 44]\n",
      " [33 14 15 20]]\n",
      "\n",
      "Isi array 2 merupakan copy array 1: \n",
      " [[10 23 15 44]\n",
      " [33 14 15 20]]\n"
     ]
    }
   ],
   "source": [
    "import numpy as np\n",
    "\n",
    "arr = np.array([[10, 23, 15, 44] , [33 , 14 ,15 , 20]])\n",
    "print(f\"Isi array 1 adalah = \\n {arr}\")\n",
    "\n",
    "arr_cp = arr.copy()\n",
    "print(f\"\\nIsi array 2 merupakan copy array 1: \\n {arr_cp}\")"
   ]
  },
  {
   "cell_type": "markdown",
   "id": "caf59d12",
   "metadata": {},
   "source": [
    "# 5.20.5 Operasi Matematika pada Numpy"
   ]
  },
  {
   "cell_type": "code",
   "execution_count": 8,
   "id": "999bbb16",
   "metadata": {},
   "outputs": [
    {
     "name": "stdout",
     "output_type": "stream",
     "text": [
      "Isi matriks A = [10 23 14 20]\n",
      "Isi matriks B = [15 21 22 30] \n",
      "\n",
      "Hasil Penjumlahan matrika A + B = [25 44 36 50] \n",
      "Hasil Pengurangan matrika A - B = [ -5   2  -8 -10] \n",
      "Hasil Perkalian matrika A x B = [150 483 308 600] \n",
      "Hasil Pengakaran matrika A = [3.16227766 4.79583152 3.74165739 4.47213595]\n"
     ]
    }
   ],
   "source": [
    "import numpy as np\n",
    "\n",
    "mat_a = np.array([10 , 23 , 14 , 20])\n",
    "mat_b = np.array([15 , 21 , 22 , 30])\n",
    "\n",
    "print(f\"Isi matriks A = {mat_a}\")\n",
    "print(f\"Isi matriks B = {mat_b} \\n\")\n",
    "\n",
    "print(f\"Hasil Penjumlahan matrika A + B = {mat_a + mat_b} \")\n",
    "print(f\"Hasil Pengurangan matrika A - B = {mat_a - mat_b} \")\n",
    "print(f\"Hasil Perkalian matrika A x B = {mat_a * mat_b} \")\n",
    "\n",
    "print(f\"Hasil Pengakaran matrika A = {np.sqrt(mat_a)}\")"
   ]
  },
  {
   "cell_type": "markdown",
   "id": "4cc7f1d5",
   "metadata": {},
   "source": [
    "# 5.20.6 Perkalian Matriks pada Numpy"
   ]
  },
  {
   "cell_type": "code",
   "execution_count": 9,
   "id": "cf8bc10e",
   "metadata": {},
   "outputs": [
    {
     "name": "stdout",
     "output_type": "stream",
     "text": [
      "Isi Matriks A : \n",
      " [[10 20 33 14]\n",
      " [33 23 24 14]] \n",
      "\n",
      "Isi Matriks B : \n",
      " [[13 14 20 22]\n",
      " [30 12 13 44]] \n",
      "\n",
      "Hasil Perkalian matrika A x B = \n",
      " [[130 280 660 308]\n",
      " [990 276 312 616]] \n"
     ]
    }
   ],
   "source": [
    "import numpy as np\n",
    "\n",
    "mat_a = np.array([[10 , 20 , 33 , 14] , [33 , 23 , 24 , 14]])\n",
    "mat_b = np.array([[13 , 14 , 20 , 22] , [30 , 12 , 13 , 44]])\n",
    "\n",
    "print(f\"Isi Matriks A : \\n {mat_a} \\n\")\n",
    "print(f\"Isi Matriks B : \\n {mat_b} \\n\")\n",
    "\n",
    "print(f\"Hasil Perkalian matrika A x B = \\n {mat_a * mat_b} \")"
   ]
  },
  {
   "cell_type": "markdown",
   "id": "66e1ede9",
   "metadata": {},
   "source": [
    "# 5.20.7 Min , Max dan Sum pada Numpy"
   ]
  },
  {
   "cell_type": "code",
   "execution_count": 10,
   "id": "4201920a",
   "metadata": {},
   "outputs": [
    {
     "name": "stdout",
     "output_type": "stream",
     "text": [
      "Isi Matriks  : \n",
      " [[10 20 33 14]\n",
      " [33 23 24 14]] \n",
      "\n",
      "Nilai terkecil di Matriks: 10\n",
      "Nilai terbesar di Matriks: 33\n",
      "Nilai Dijumlahkan di Matriks: 171\n"
     ]
    }
   ],
   "source": [
    "import numpy as np\n",
    "\n",
    "arr = np.array([[10 , 20 , 33 , 14] , [33 , 23 , 24 , 14]])\n",
    "print(f\"Isi Matriks  : \\n {arr} \\n\")\n",
    "\n",
    "print(f\"Nilai terkecil di Matriks: {np.min(arr)}\")\n",
    "print(f\"Nilai terbesar di Matriks: {np.max(arr)}\")\n",
    "print(f\"Nilai Dijumlahkan di Matriks: {np.sum(arr)}\")"
   ]
  },
  {
   "cell_type": "markdown",
   "id": "dbdd7e2c",
   "metadata": {},
   "source": [
    "# 5.21 Pandas"
   ]
  },
  {
   "cell_type": "markdown",
   "id": "6215ee77",
   "metadata": {},
   "source": [
    "# 5.21.1 Membaca File Data pada Pandas"
   ]
  },
  {
   "cell_type": "code",
   "execution_count": 14,
   "id": "7f8ebeef",
   "metadata": {},
   "outputs": [
    {
     "name": "stdout",
     "output_type": "stream",
     "text": [
      "   sl_no gender  ssc_p    ssc_b  hsc_p    hsc_b     hsc_s  degree_p  \\\n",
      "0      1      M  67.00   Others  91.00   Others  Commerce     58.00   \n",
      "1      2      M  79.33  Central  78.33   Others   Science     77.48   \n",
      "2      3      M  65.00  Central  68.00  Central      Arts     64.00   \n",
      "3      4      M  56.00  Central  52.00  Central   Science     52.00   \n",
      "4      5      M  85.80  Central  73.60  Central  Commerce     73.30   \n",
      "\n",
      "    degree_t workex  etest_p specialisation  mba_p      status    salary  \n",
      "0   Sci&Tech     No     55.0         Mkt&HR  58.80      Placed  270000.0  \n",
      "1   Sci&Tech    Yes     86.5        Mkt&Fin  66.28      Placed  200000.0  \n",
      "2  Comm&Mgmt     No     75.0        Mkt&Fin  57.80      Placed  250000.0  \n",
      "3   Sci&Tech     No     66.0         Mkt&HR  59.43  Not Placed       NaN  \n",
      "4  Comm&Mgmt     No     96.8        Mkt&Fin  55.50      Placed  425000.0  \n"
     ]
    }
   ],
   "source": [
    "import pandas as pd \n",
    "\n",
    "url = \"https://raw.githubusercontent.com/imberlianti/Data-Scientist/main/Campus%20Recruitment/Placement_Data_Full_Class.csv\"\n",
    "data  = pd.read_csv(url)\n",
    "\n",
    "print(data.head(5))"
   ]
  },
  {
   "cell_type": "markdown",
   "id": "6f1fefbe",
   "metadata": {},
   "source": [
    "# 5.21.2 Properti Pada Pandas"
   ]
  },
  {
   "cell_type": "code",
   "execution_count": 15,
   "id": "3bb843aa",
   "metadata": {},
   "outputs": [
    {
     "name": "stdout",
     "output_type": "stream",
     "text": [
      "   sl_no gender  ssc_p    ssc_b  hsc_p    hsc_b     hsc_s  degree_p  \\\n",
      "0      1      M  67.00   Others  91.00   Others  Commerce     58.00   \n",
      "1      2      M  79.33  Central  78.33   Others   Science     77.48   \n",
      "2      3      M  65.00  Central  68.00  Central      Arts     64.00   \n",
      "3      4      M  56.00  Central  52.00  Central   Science     52.00   \n",
      "4      5      M  85.80  Central  73.60  Central  Commerce     73.30   \n",
      "\n",
      "    degree_t workex  etest_p specialisation  mba_p      status    salary  \n",
      "0   Sci&Tech     No     55.0         Mkt&HR  58.80      Placed  270000.0  \n",
      "1   Sci&Tech    Yes     86.5        Mkt&Fin  66.28      Placed  200000.0  \n",
      "2  Comm&Mgmt     No     75.0        Mkt&Fin  57.80      Placed  250000.0  \n",
      "3   Sci&Tech     No     66.0         Mkt&HR  59.43  Not Placed       NaN  \n",
      "4  Comm&Mgmt     No     96.8        Mkt&Fin  55.50      Placed  425000.0  \n",
      "isi coloumn dari data ini adalah: Index(['sl_no', 'gender', 'ssc_p', 'ssc_b', 'hsc_p', 'hsc_b', 'hsc_s',\n",
      "       'degree_p', 'degree_t', 'workex', 'etest_p', 'specialisation', 'mba_p',\n",
      "       'status', 'salary'],\n",
      "      dtype='object') \n",
      "\n",
      "0    M\n",
      "1    M\n",
      "2    M\n",
      "3    M\n",
      "4    M\n",
      "Name: gender, dtype: object\n",
      "   sl_no gender  ssc_p    ssc_b  hsc_p    hsc_b     hsc_s  degree_p  \\\n",
      "1      2      M  79.33  Central  78.33   Others   Science     77.48   \n",
      "2      3      M  65.00  Central  68.00  Central      Arts     64.00   \n",
      "3      4      M  56.00  Central  52.00  Central   Science     52.00   \n",
      "4      5      M  85.80  Central  73.60  Central  Commerce     73.30   \n",
      "\n",
      "    degree_t workex  etest_p specialisation  mba_p      status    salary  \n",
      "1   Sci&Tech    Yes     86.5        Mkt&Fin  66.28      Placed  200000.0  \n",
      "2  Comm&Mgmt     No     75.0        Mkt&Fin  57.80      Placed  250000.0  \n",
      "3   Sci&Tech     No     66.0         Mkt&HR  59.43  Not Placed       NaN  \n",
      "4  Comm&Mgmt     No     96.8        Mkt&Fin  55.50      Placed  425000.0  \n"
     ]
    }
   ],
   "source": [
    "import pandas as pd\n",
    "\n",
    "url = \"https://raw.githubusercontent.com/imberlianti/Data-Scientist/main/Campus%20Recruitment/Placement_Data_Full_Class.csv\"\n",
    "data = pd.read_csv(url)\n",
    "\n",
    "print(data.head(5))\n",
    "print(f\"isi coloumn dari data ini adalah: {data.columns} \\n\")\n",
    "\n",
    "print(data['gender'][0 : 5])\n",
    "\n",
    "print(data.iloc[1 : 5])"
   ]
  },
  {
   "cell_type": "markdown",
   "id": "5678434a",
   "metadata": {},
   "source": [
    "# 5.21.3 Mengurutkan data pada Pandas"
   ]
  },
  {
   "cell_type": "code",
   "execution_count": 16,
   "id": "ecd9c927",
   "metadata": {},
   "outputs": [
    {
     "name": "stdout",
     "output_type": "stream",
     "text": [
      "     sl_no gender  ssc_p    ssc_b  hsc_p    hsc_b     hsc_s  degree_p  \\\n",
      "119    120      M   60.8  Central  68.40  Central  Commerce      64.6   \n",
      "150    151      M   71.0  Central  58.66  Central   Science      58.0   \n",
      "177    178      F   73.0  Central  97.00   Others  Commerce      79.0   \n",
      "77      78      M   64.0   Others  80.00   Others   Science      65.0   \n",
      "163    164      M   63.0   Others  67.00   Others   Science      64.0   \n",
      "\n",
      "      degree_t workex  etest_p specialisation  mba_p  status    salary  \n",
      "119  Comm&Mgmt    Yes    82.66        Mkt&Fin  64.34  Placed  940000.0  \n",
      "150   Sci&Tech    Yes    56.00        Mkt&Fin  61.30  Placed  690000.0  \n",
      "177  Comm&Mgmt    Yes    89.00        Mkt&Fin  70.81  Placed  650000.0  \n",
      "77    Sci&Tech    Yes    69.00        Mkt&Fin  57.65  Placed  500000.0  \n",
      "163   Sci&Tech     No    75.00        Mkt&Fin  66.46  Placed  500000.0  \n"
     ]
    }
   ],
   "source": [
    "import pandas as pd\n",
    "\n",
    "url = \"https://raw.githubusercontent.com/imberlianti/Data-Scientist/main/Campus%20Recruitment/Placement_Data_Full_Class.csv\"\n",
    "data = pd.read_csv(url)\n",
    "\n",
    "print(data.sort_values([\"salary\" , \"status\"] , ascending = False).head(5))"
   ]
  },
  {
   "cell_type": "markdown",
   "id": "cde6b3ca",
   "metadata": {},
   "source": [
    "# 5.21.4 Mengubah data pada Pandas"
   ]
  },
  {
   "cell_type": "code",
   "execution_count": 17,
   "id": "c0c5f845",
   "metadata": {},
   "outputs": [
    {
     "name": "stdout",
     "output_type": "stream",
     "text": [
      "data sebelum di tambah coloumns: \n",
      "    sl_no gender  ssc_p    ssc_b  hsc_p    hsc_b     hsc_s  degree_p  \\\n",
      "0      1      M  67.00   Others  91.00   Others  Commerce     58.00   \n",
      "1      2      M  79.33  Central  78.33   Others   Science     77.48   \n",
      "2      3      M  65.00  Central  68.00  Central      Arts     64.00   \n",
      "3      4      M  56.00  Central  52.00  Central   Science     52.00   \n",
      "4      5      M  85.80  Central  73.60  Central  Commerce     73.30   \n",
      "\n",
      "    degree_t workex  etest_p specialisation  mba_p      status    salary  \n",
      "0   Sci&Tech     No     55.0         Mkt&HR  58.80      Placed  270000.0  \n",
      "1   Sci&Tech    Yes     86.5        Mkt&Fin  66.28      Placed  200000.0  \n",
      "2  Comm&Mgmt     No     75.0        Mkt&Fin  57.80      Placed  250000.0  \n",
      "3   Sci&Tech     No     66.0         Mkt&HR  59.43  Not Placed       NaN  \n",
      "4  Comm&Mgmt     No     96.8        Mkt&Fin  55.50      Placed  425000.0   \n",
      "\n",
      "\n",
      "     sl_no gender  ssc_p    ssc_b  hsc_p   hsc_b     hsc_s  degree_p  \\\n",
      "24      25      M  76.50   Others  97.70  Others   Science     78.86   \n",
      "90      91      F  85.00   Others  90.00  Others  Commerce     82.00   \n",
      "177    178      F  73.00  Central  97.00  Others  Commerce     79.00   \n",
      "107    108      M  82.00   Others  90.00  Others  Commerce     83.00   \n",
      "85      86      F  83.84   Others  89.83  Others  Commerce     77.20   \n",
      "\n",
      "      degree_t workex  etest_p specialisation  mba_p  status    salary  \\\n",
      "24    Sci&Tech     No    97.40        Mkt&Fin  74.01  Placed  360000.0   \n",
      "90   Comm&Mgmt     No    92.00        Mkt&Fin  68.03  Placed  300000.0   \n",
      "177  Comm&Mgmt    Yes    89.00        Mkt&Fin  70.81  Placed  650000.0   \n",
      "107  Comm&Mgmt     No    80.00         Mkt&HR  73.52  Placed  200000.0   \n",
      "85   Comm&Mgmt    Yes    78.74        Mkt&Fin  76.18  Placed  400000.0   \n",
      "\n",
      "     nilai rata  \n",
      "24       84.894  \n",
      "90       83.406  \n",
      "177      81.762  \n",
      "107      81.704  \n",
      "85       81.158  \n",
      "\n",
      "Nilai rata-rata terendah = 52.02\n",
      "Nilai rata-rata tertinggi = 84.89\n"
     ]
    }
   ],
   "source": [
    "import pandas as pd \n",
    "import numpy as np\n",
    "\n",
    "url = \"https://raw.githubusercontent.com/imberlianti/Data-Scientist/main/Campus%20Recruitment/Placement_Data_Full_Class.csv\"\n",
    "data = pd.read_csv(url)\n",
    "\n",
    "print(f\"data sebelum di tambah coloumns: \\n {data.head(5)} \\n\\n\")\n",
    "\n",
    "data[\"nilai rata\"] = ( data[\"ssc_p\"] + data[\"hsc_p\"] + data[\"degree_p\"] + data[\"etest_p\"] + data[\"mba_p\"] ) / 5\n",
    "data[\"salary\"] = data[\"salary\"].replace(np.nan, 0)\n",
    "\n",
    "print(data.sort_values(\"nilai rata\" , ascending=False).head(5))\n",
    "\n",
    "print(\"\\nNilai rata-rata terendah = %.2f\" % min(data[\"nilai rata\"]))\n",
    "print(\"Nilai rata-rata tertinggi = %.2f\" % max(data[\"nilai rata\"]))"
   ]
  },
  {
   "cell_type": "markdown",
   "id": "3343d31a",
   "metadata": {},
   "source": [
    "# 5.21.5 Menyimpan data menggunakan Pandas"
   ]
  },
  {
   "cell_type": "code",
   "execution_count": 18,
   "id": "1375ff5e",
   "metadata": {},
   "outputs": [
    {
     "name": "stdout",
     "output_type": "stream",
     "text": [
      "     sl_no gender  ssc_p    ssc_b  hsc_p    hsc_b     hsc_s  degree_p  \\\n",
      "24      25      M  76.50   Others  97.70   Others   Science     78.86   \n",
      "90      91      F  85.00   Others  90.00   Others  Commerce     82.00   \n",
      "177    178      F  73.00  Central  97.00   Others  Commerce     79.00   \n",
      "107    108      M  82.00   Others  90.00   Others  Commerce     83.00   \n",
      "85      86      F  83.84   Others  89.83   Others  Commerce     77.20   \n",
      "..     ...    ...    ...      ...    ...      ...       ...       ...   \n",
      "188    189      M  61.80   Others  47.00   Others  Commerce     54.38   \n",
      "168    169      F  48.00  Central  51.00  Central  Commerce     58.00   \n",
      "36      37      M  51.00  Central  44.00  Central  Commerce     57.00   \n",
      "42      43      M  49.00   Others  39.00  Central   Science     65.00   \n",
      "49      50      F  50.00   Others  37.00   Others      Arts     52.00   \n",
      "\n",
      "      degree_t workex  etest_p specialisation  mba_p      status    salary  \\\n",
      "24    Sci&Tech     No    97.40        Mkt&Fin  74.01      Placed  360000.0   \n",
      "90   Comm&Mgmt     No    92.00        Mkt&Fin  68.03      Placed  300000.0   \n",
      "177  Comm&Mgmt    Yes    89.00        Mkt&Fin  70.81      Placed  650000.0   \n",
      "107  Comm&Mgmt     No    80.00         Mkt&HR  73.52      Placed  200000.0   \n",
      "85   Comm&Mgmt    Yes    78.74        Mkt&Fin  76.18      Placed  400000.0   \n",
      "..         ...    ...      ...            ...    ...         ...       ...   \n",
      "188  Comm&Mgmt     No    57.00        Mkt&Fin  56.13  Not Placed       0.0   \n",
      "168  Comm&Mgmt    Yes    60.00         Mkt&HR  58.79  Not Placed       0.0   \n",
      "36   Comm&Mgmt     No    64.00        Mkt&Fin  51.45  Not Placed       0.0   \n",
      "42      Others     No    63.00        Mkt&Fin  51.21  Not Placed       0.0   \n",
      "49      Others     No    65.00         Mkt&HR  56.11  Not Placed       0.0   \n",
      "\n",
      "     nilai rata  \n",
      "24       84.894  \n",
      "90       83.406  \n",
      "177      81.762  \n",
      "107      81.704  \n",
      "85       81.158  \n",
      "..          ...  \n",
      "188      55.262  \n",
      "168      55.158  \n",
      "36       53.490  \n",
      "42       53.442  \n",
      "49       52.022  \n",
      "\n",
      "[215 rows x 16 columns]\n"
     ]
    }
   ],
   "source": [
    "import pandas as pd\n",
    "import numpy as np\n",
    "\n",
    "url = \"https://raw.githubusercontent.com/imberlianti/Data-Scientist/main/Campus%20Recruitment/Placement_Data_Full_Class.csv\"\n",
    "data = pd.read_csv(url)\n",
    "\n",
    "data[\"nilai rata\"] = ( data[\"ssc_p\"] + data[\"hsc_p\"] + data[\"degree_p\"] + data[\"etest_p\"] + data[\"mba_p\"] ) / 5\n",
    "data[\"salary\"] = data[\"salary\"].replace(np.nan, 0)\n",
    "\n",
    "data = data.sort_values([\"status\" , \"nilai rata\" , \"salary\"] , ascending = False)\n",
    "data.to_csv(\"data.csv\")\n",
    "\n",
    "print(data)"
   ]
  },
  {
   "cell_type": "markdown",
   "id": "3cfa519f",
   "metadata": {},
   "source": [
    "# 5.21.6 Menyaring data menggunakan Pandas"
   ]
  },
  {
   "cell_type": "code",
   "execution_count": 19,
   "id": "15493ae7",
   "metadata": {},
   "outputs": [
    {
     "name": "stdout",
     "output_type": "stream",
     "text": [
      "     sl_no gender  ssc_p    ssc_b  hsc_p    hsc_b     hsc_s  degree_p  \\\n",
      "0        1      M  67.00   Others  91.00   Others  Commerce     58.00   \n",
      "4        5      M  85.80  Central  73.60  Central  Commerce     73.30   \n",
      "7        8      M  82.00  Central  64.00  Central   Science     66.00   \n",
      "10      11      M  58.00  Central  61.00  Central  Commerce     60.00   \n",
      "16      17      M  63.00  Central  66.20  Central  Commerce     65.60   \n",
      "..     ...    ...    ...      ...    ...      ...       ...       ...   \n",
      "203    204      M  55.68   Others  61.33   Others  Commerce     56.87   \n",
      "207    208      M  83.33  Central  78.00   Others  Commerce     61.00   \n",
      "210    211      M  80.60   Others  82.00   Others  Commerce     77.60   \n",
      "211    212      M  58.00   Others  60.00   Others   Science     72.00   \n",
      "212    213      M  67.00   Others  67.00   Others  Commerce     73.00   \n",
      "\n",
      "      degree_t workex  etest_p specialisation  mba_p  status    salary  \n",
      "0     Sci&Tech     No    55.00         Mkt&HR  58.80  Placed  270000.0  \n",
      "4    Comm&Mgmt     No    96.80        Mkt&Fin  55.50  Placed  425000.0  \n",
      "7     Sci&Tech    Yes    67.00        Mkt&Fin  62.14  Placed  252000.0  \n",
      "10   Comm&Mgmt    Yes    62.00         Mkt&HR  60.85  Placed  260000.0  \n",
      "16   Comm&Mgmt    Yes    60.00        Mkt&Fin  62.54  Placed  300000.0  \n",
      "..         ...    ...      ...            ...    ...     ...       ...  \n",
      "203  Comm&Mgmt     No    66.00         Mkt&HR  58.30  Placed  260000.0  \n",
      "207  Comm&Mgmt    Yes    88.56        Mkt&Fin  71.55  Placed  300000.0  \n",
      "210  Comm&Mgmt     No    91.00        Mkt&Fin  74.49  Placed  400000.0  \n",
      "211   Sci&Tech     No    74.00        Mkt&Fin  53.62  Placed  275000.0  \n",
      "212  Comm&Mgmt    Yes    59.00        Mkt&Fin  69.72  Placed  295000.0  \n",
      "\n",
      "[86 rows x 15 columns]\n"
     ]
    }
   ],
   "source": [
    "import pandas as pd\n",
    "import numpy as np\n",
    "\n",
    "url = \"https://raw.githubusercontent.com/imberlianti/Data-Scientist/main/Campus%20Recruitment/Placement_Data_Full_Class.csv\"\n",
    "data = pd.read_csv(url)\n",
    "\n",
    "data[\"salary\"] = data[\"salary\"].replace(np.nan , 0)\n",
    "data = data.loc[(data[\"salary\"] > 250000) & (data[\"status\"] == \"Placed\")]\n",
    "\n",
    "print(data)"
   ]
  },
  {
   "cell_type": "markdown",
   "id": "b84f030e",
   "metadata": {},
   "source": [
    "# 5.21.7 Pengelompokan data menggunakan Pandas"
   ]
  },
  {
   "cell_type": "code",
   "execution_count": 20,
   "id": "498d77bf",
   "metadata": {},
   "outputs": [
    {
     "name": "stdout",
     "output_type": "stream",
     "text": [
      "     sl_no gender  ssc_p    ssc_b  hsc_p    hsc_b     hsc_s  degree_p  \\\n",
      "0        1      M  67.00   Others  91.00   Others  Commerce     58.00   \n",
      "1        2      M  79.33  Central  78.33   Others   Science     77.48   \n",
      "2        3      M  65.00  Central  68.00  Central      Arts     64.00   \n",
      "3        4      M  56.00  Central  52.00  Central   Science     52.00   \n",
      "4        5      M  85.80  Central  73.60  Central  Commerce     73.30   \n",
      "..     ...    ...    ...      ...    ...      ...       ...       ...   \n",
      "210    211      M  80.60   Others  82.00   Others  Commerce     77.60   \n",
      "211    212      M  58.00   Others  60.00   Others   Science     72.00   \n",
      "212    213      M  67.00   Others  67.00   Others  Commerce     73.00   \n",
      "213    214      F  74.00   Others  66.00   Others  Commerce     58.00   \n",
      "214    215      M  62.00  Central  58.00   Others   Science     53.00   \n",
      "\n",
      "      degree_t workex  etest_p specialisation  mba_p      status    salary  \n",
      "0     Sci&Tech     No     55.0         Mkt&HR  58.80      Placed  270000.0  \n",
      "1     Sci&Tech    Yes     86.5        Mkt&Fin  66.28      Placed  200000.0  \n",
      "2    Comm&Mgmt     No     75.0        Mkt&Fin  57.80      Placed  250000.0  \n",
      "3     Sci&Tech     No     66.0         Mkt&HR  59.43  Not Placed       NaN  \n",
      "4    Comm&Mgmt     No     96.8        Mkt&Fin  55.50      Placed  425000.0  \n",
      "..         ...    ...      ...            ...    ...         ...       ...  \n",
      "210  Comm&Mgmt     No     91.0        Mkt&Fin  74.49      Placed  400000.0  \n",
      "211   Sci&Tech     No     74.0        Mkt&Fin  53.62      Placed  275000.0  \n",
      "212  Comm&Mgmt    Yes     59.0        Mkt&Fin  69.72      Placed  295000.0  \n",
      "213  Comm&Mgmt     No     70.0         Mkt&HR  60.23      Placed  204000.0  \n",
      "214  Comm&Mgmt     No     89.0         Mkt&HR  60.22  Not Placed       NaN  \n",
      "\n",
      "[215 rows x 15 columns]\n",
      "Pengelompokan data berdasarkan gender : \n",
      "              sl_no      ssc_p      hsc_p   degree_p    etest_p      mba_p  \\\n",
      "gender                                                                      \n",
      "F       101.763158  68.310921  66.646842  68.090000  70.590658  64.643553   \n",
      "M       111.410072  66.752518  66.161655  65.429856  72.926115  60.984892   \n",
      "\n",
      "               salary  \n",
      "gender                 \n",
      "F       267291.666667  \n",
      "M       298910.000000  \n",
      "        sl_no    ssc_p    hsc_p  degree_p   etest_p    mba_p      salary\n",
      "gender                                                                  \n",
      "F        7734  5191.63  5065.16   5174.84   5364.89  4912.91  12830000.0\n",
      "M       15486  9278.60  9196.47   9094.75  10136.73  8476.90  29891000.0\n"
     ]
    }
   ],
   "source": [
    "import pandas as pd\n",
    "\n",
    "url = \"https://raw.githubusercontent.com/imberlianti/Data-Scientist/main/Campus%20Recruitment/Placement_Data_Full_Class.csv\"\n",
    "data = pd.read_csv(url)\n",
    "\n",
    "print(data)\n",
    "print(\"Pengelompokan data berdasarkan gender : \\n\", data.groupby([\"gender\"]).mean())\n",
    "\n",
    "print(data.groupby([\"gender\"]).sum())"
   ]
  },
  {
   "cell_type": "markdown",
   "id": "f50138c1",
   "metadata": {},
   "source": [
    "# 5.22 Matplotlib"
   ]
  },
  {
   "cell_type": "markdown",
   "id": "1ebfcfe0",
   "metadata": {},
   "source": [
    "# 5.22.1 Grafik sederhana dengan Matplotlib"
   ]
  },
  {
   "cell_type": "code",
   "execution_count": 23,
   "id": "bf6e66d8",
   "metadata": {},
   "outputs": [
    {
     "data": {
      "image/png": "[encoded data removed]",
      "text/plain": [
       "<Figure size 432x288 with 1 Axes>"
      ]
     },
     "metadata": {
      "needs_background": "light"
     },
     "output_type": "display_data"
    }
   ],
   "source": [
    "import matplotlib.pyplot as plt\n",
    "\n",
    "X = [10 , 13 , 15 ,  21]\n",
    "Y = [11 , 14 , 21 , 24]\n",
    "\n",
    "plt.plot(X , Y)\n",
    "\n",
    "plt.xlabel(\"X\")\n",
    "plt.ylabel(\"Y\")\n",
    "plt.title(\"Test Grafik\")\n",
    "\n",
    "plt.show()"
   ]
  },
  {
   "cell_type": "markdown",
   "id": "69a73943",
   "metadata": {},
   "source": [
    "# 5.22.2 Properti Pembuatan Grafik dengan Matplotib"
   ]
  },
  {
   "cell_type": "code",
   "execution_count": 24,
   "id": "ff26f8fa",
   "metadata": {},
   "outputs": [
    {
     "data": {
      "image/png": "[encoded data removed]",
      "text/plain": [
       "<Figure size 600x600 with 1 Axes>"
      ]
     },
     "metadata": {
      "needs_background": "light"
     },
     "output_type": "display_data"
    }
   ],
   "source": [
    "import matplotlib.pyplot as plt\n",
    "\n",
    "X = [-8 , -7 , -6 , -5 , -4 , -3 , -2 , -1 , 0 , 1 , 2 , 3 , 4 , 5 , 6 , 7 , 8]\n",
    "Y = [50 , 22 , 21 , 40 , 11 , 33 , 43 , 22 , 19 , 21 , 44 , 41 , 45 , 54 , 12 , 11 , 10]\n",
    "X_ONE = [-2 , -1 , 0 , 1 , 2 , 3 , 4 , 5 , 6 , 7]\n",
    "Y_ONE = [-3 , 10 , 15 , 22 , 21 , 19 , 12 , 11 , 19 , 18]\n",
    "\n",
    "plt.figure(figsize = (2,2) , dpi = 300)\n",
    "\n",
    "plt.plot(X , Y , label = \"Y = X ^ 2\" , color = \"green\" , linewidth = 3 , marker = \".\" , markersize = 10, \n",
    "        markeredgecolor = \"red\" , linestyle = \"-.\")\n",
    "\n",
    "plt.plot(X_ONE , Y_ONE)\n",
    "plt.title(\"Grafik Y = X ^ 2\")\n",
    "\n",
    "plt.xlabel(\"X\")\n",
    "plt.ylabel(\"Y\")\n",
    "\n",
    "plt.xticks([-8 , -7 , -6 , -5 , -4 , -3 , -2 , -1 , 0 , 1 , 2 , 3 , 4 , 5 , 6 , 7 , 8])\n",
    "plt.yticks([50 , 22 , 21 , 40 , 11 , 33 , 43 , 22 , 19 , 21 , 44 , 41 , 45 , 54 , 12 , 11 , 10])\n",
    "\n",
    "plt.legend()\n",
    "plt.show()"
   ]
  },
  {
   "cell_type": "markdown",
   "id": "4184069a",
   "metadata": {},
   "source": [
    "# 5.22.3 Histogram sederhana dengan Matplotlib"
   ]
  },
  {
   "cell_type": "code",
   "execution_count": 25,
   "id": "31c809c8",
   "metadata": {},
   "outputs": [
    {
     "data": {
      "image/png": "[encoded data removed]",
      "text/plain": [
       "<Figure size 432x288 with 1 Axes>"
      ]
     },
     "metadata": {
      "needs_background": "light"
     },
     "output_type": "display_data"
    }
   ],
   "source": [
    "import matplotlib.pyplot as plt\n",
    "import random as rd\n",
    "\n",
    "gender = [\"Mahasiswa\" , \"Mahasiswi\"]\n",
    "jumlah = [rd.randint(1, 100) , rd.randint(1,100)]\n",
    "\n",
    "plt.bar(gender , jumlah)\n",
    "plt.title(\"Histogram Sederhana\")\n",
    "plt.show()"
   ]
  },
  {
   "cell_type": "markdown",
   "id": "0837f0ae",
   "metadata": {},
   "source": [
    "# 5.22.4 Properti Pembuatan Histogram dengan Matplotlib"
   ]
  },
  {
   "cell_type": "code",
   "execution_count": 26,
   "id": "9e1e4e18",
   "metadata": {},
   "outputs": [
    {
     "data": {
      "image/png": "[encoded data removed]",
      "text/plain": [
       "<Figure size 576x288 with 1 Axes>"
      ]
     },
     "metadata": {
      "needs_background": "light"
     },
     "output_type": "display_data"
    }
   ],
   "source": [
    "import matplotlib.pyplot as plt\n",
    "\n",
    "Vocalis = [\"Ari Lasso\" , \"Once\" , \"Axl Rose\" , \"Freddie Mercury\"]\n",
    "Fans = [200 , 180 , 800 , 1200]\n",
    "\n",
    "plt.figure(figsize=(8 , 4))\n",
    "histogram = plt.bar(Vocalis , Fans , color = 'blue')\n",
    "\n",
    "histogram[0].set_hatch(\"x\")\n",
    "histogram[1].set_hatch(\"o\")\n",
    "histogram[2].set_hatch(\"/\")\n",
    "histogram[3].set_hatch(\"x\")\n",
    "\n",
    "plt.show()"
   ]
  },
  {
   "cell_type": "markdown",
   "id": "116fa5bb",
   "metadata": {},
   "source": [
    "# Implementasi Pandas Numpy dan Matplotlib"
   ]
  },
  {
   "cell_type": "code",
   "execution_count": 27,
   "id": "a07456c2",
   "metadata": {},
   "outputs": [
    {
     "data": {
      "image/png": "[encoded data removed]",
      "text/plain": [
       "<Figure size 432x288 with 1 Axes>"
      ]
     },
     "metadata": {
      "needs_background": "light"
     },
     "output_type": "display_data"
    }
   ],
   "source": [
    "import pandas as pd\n",
    "import matplotlib.pyplot as plt\n",
    "import numpy as np\n",
    "\n",
    "url = \"https://raw.githubusercontent.com/imberlianti/Tugas/main/Data%20Scientist/train.csv\"\n",
    "\n",
    "data = pd.read_csv(url)\n",
    "\n",
    "lived = data[(data[\"Survived\"] == 1)]\n",
    "died = data[(data[\"Survived\"] == 0)]\n",
    "\n",
    "TempFemaleDied = died[(died[\"Sex\"] == \"female\")]\n",
    "TempMaleDied = died[(died[\"Sex\"] == \"male\")]\n",
    "\n",
    "TempFemaleSurvived = lived[(lived[\"Sex\"] == \"female\")]\n",
    "TempMaleSurvived = lived[(lived[\"Sex\"] == \"male\")]\n",
    "\n",
    "FemaleDied = len(TempFemaleDied)\n",
    "FemaleSurvived = len(TempFemaleSurvived)\n",
    "\n",
    "MaleDied = len(TempMaleDied)\n",
    "MaleSurvived= len(TempMaleSurvived)\n",
    "\n",
    "\n",
    "N = 1\n",
    "R = np.arange(N)\n",
    "width = 0.25\n",
    "\n",
    "plt.bar(R, FemaleSurvived , color = \"green\" , width = width , edgecolor = \"black\" , label = \"Perempuan Selamat\")\n",
    "plt.bar(R + width, FemaleDied , color = \"blue\" , width = width , edgecolor = \"black\" , label = \"Perempuan Meninggal\")\n",
    "\n",
    "plt.bar(R + (width * 3), MaleSurvived , color = \"red\" , width = width , edgecolor = \"black\" , label = \"Laki-Laki Selamat\")\n",
    "plt.bar(R + (width * 4), MaleDied , color = \"purple\" , width = width , edgecolor = \"black\" , label = \"Laki - Laki Meninggal\")\n",
    "\n",
    "plt.ylabel(\"Jumlah Penumpang\")\n",
    "plt.xlabel(\"Perbandingan\")\n",
    "\n",
    "plt.xticks(R + width, [\"\"])\n",
    "plt.legend()\n",
    "plt.title(\"Data Perbandingan Titanic\")\n",
    "\n",
    "plt.show()"
   ]
  },
  {
   "cell_type": "markdown",
   "id": "fc85c59b",
   "metadata": {},
   "source": [
    "# TERIMA KASIH ~ SABINA BERLIANTI ~"
   ]
  }
 ],
 "metadata": {
  "kernelspec": {
   "display_name": "Python 3 (ipykernel)",
   "language": "python",
   "name": "python3"
  },
  "language_info": {
   "codemirror_mode": {
    "name": "ipython",
    "version": 3
   },
   "file_extension": ".py",
   "mimetype": "text/x-python",
   "name": "python",
   "nbconvert_exporter": "python",
   "pygments_lexer": "ipython3",
   "version": "3.8.10"
  }
 },
 "nbformat": 4,
 "nbformat_minor": 5
}
